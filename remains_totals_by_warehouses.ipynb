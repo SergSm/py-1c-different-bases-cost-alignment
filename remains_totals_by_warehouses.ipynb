{
 "cells": [
  {
   "cell_type": "code",
   "execution_count": 16,
   "metadata": {},
   "outputs": [],
   "source": [
    "import numpy as np\n",
    "\n",
    "import pandas as pd\n",
    "from IPython.display import display, HTML\n",
    "pd.set_option('display.max_rows', 500)\n",
    "pd.set_option('display.max_columns', 50) #  columns count\n",
    "pd.set_option('display.max_colwidth', -1)  # columns width \n",
    "\n",
    "# Use 3 decimal places in output display\n",
    "pd.set_option(\"display.precision\", 3)\n",
    "\n",
    "# Don't wrap repr(DataFrame) across additional lines\n",
    "pd.set_option(\"display.expand_frame_repr\", False)\n"
   ]
  },
  {
   "cell_type": "code",
   "execution_count": 17,
   "metadata": {},
   "outputs": [],
   "source": [
    "# file pathes to input data\n",
    "#fp_ut = 'UT.csv'     \n",
    "#fp_buh =  'BUH.csv'\n",
    "fp_changed =\"final_UT_BUH.xlsx\""
   ]
  },
  {
   "cell_type": "code",
   "execution_count": 18,
   "metadata": {},
   "outputs": [],
   "source": [
    "# Describe field names\n",
    "# F means Field\n",
    "F_ITEM = 'Номенклатура'\n",
    "F_CODE = 'КодНоменклатуры'\n",
    "F_SUM = 'Сумма'\n",
    "F_QUAN = 'Количество'\n",
    "F_SERIESCODE = 'КодСерии'\n",
    "F_STORAGE = 'Склад'"
   ]
  },
  {
   "cell_type": "code",
   "execution_count": 19,
   "metadata": {},
   "outputs": [],
   "source": [
    "# ABOUT THE DATA\n",
    "# both files has similar columns but the UT has additional columns 'Серия', \"КодСерии\"\n",
    "# both files has 'quantity' and 'sum' fields\n",
    "\n",
    "float_type_rows = [F_QUAN, F_SUM] # the specifeid field will be converted to float"
   ]
  },
  {
   "cell_type": "code",
   "execution_count": 20,
   "metadata": {},
   "outputs": [],
   "source": [
    "# clean up data for the given Series\n",
    "def clean_up_for_numeric(given_df, df_name, col_name):\n",
    "    '''col_name - column name for cleaning '''\n",
    "    given_df[col_name].replace(u'\\xa0',u'', regex=True, inplace=True) # clean up the no-break spaces\n",
    "    given_df[col_name].replace(u',',u'.', regex=True, inplace=True)  # repalce commas with the dots\n",
    "    print(\"Cleaning data in \",col_name,\" column successfull for\", df_name)\n",
    "    return True\n",
    "\n",
    "# converts the given series to a float type\n",
    "def convert_to_float(given_df, df_name, col_name): # 'df_name is the name of the datframe\n",
    "    given_df[col_name] = given_df[col_name].astype(float)\n",
    "    print(\"Converting \", col_name, \" column in float successful for \", df_name)\n",
    "    return True"
   ]
  },
  {
   "cell_type": "code",
   "execution_count": 21,
   "metadata": {},
   "outputs": [],
   "source": [
    "# All code needed to check the difference of concatenating ut and buh listed below\n",
    "###############################################################################################\n",
    "# reread the new file\n",
    "fp_changed =\"final_UT_BUH.xlsx\"\n",
    "#df_changed = pd.read_csv(fp_changed, sep=';', encoding='cp1251', dtype={F_SERIESCODE: 'str',F_CODE:'str',F_QUAN:float})\n",
    "df_changed = pd.read_excel(fp_changed, dtype={F_SERIESCODE: 'str',F_CODE:'str',F_QUAN:float,F_SUM:float}, decimal=\" \")"
   ]
  },
  {
   "cell_type": "code",
   "execution_count": 22,
   "metadata": {},
   "outputs": [
    {
     "name": "stdout",
     "output_type": "stream",
     "text": [
      "Cleaning data in  Количество  column successfull for df_changed\n",
      "Converting  Количество  column in float successful for  df_changed\n",
      "Cleaning data in  Сумма  column successfull for df_changed\n",
      "Converting  Сумма  column in float successful for  df_changed\n"
     ]
    }
   ],
   "source": [
    "# Clean up the data in buh_ut\n",
    "#    Convert Quantity and Sum fields to numeric\n",
    "#    the quantity column may have a \\xa0 symbol (no-break space)\n",
    "# To figure out the value which can not be converted use: df.apply(pd.to_numeric)\n",
    "\n",
    "# Remove NB spaces and replace commas with dots for columns Quantity and Sum\n",
    "for float_col_name in float_type_rows:\n",
    "        clean_up_for_numeric(df_changed, 'df_changed', float_col_name)\n",
    "        convert_to_float(df_changed, 'df_changed', float_col_name)"
   ]
  },
  {
   "cell_type": "code",
   "execution_count": 23,
   "metadata": {},
   "outputs": [
    {
     "data": {
      "text/html": [
       "<div>\n",
       "<style scoped>\n",
       "    .dataframe tbody tr th:only-of-type {\n",
       "        vertical-align: middle;\n",
       "    }\n",
       "\n",
       "    .dataframe tbody tr th {\n",
       "        vertical-align: top;\n",
       "    }\n",
       "\n",
       "    .dataframe thead th {\n",
       "        text-align: right;\n",
       "    }\n",
       "</style>\n",
       "<table border=\"1\" class=\"dataframe\">\n",
       "  <thead>\n",
       "    <tr style=\"text-align: right;\">\n",
       "      <th></th>\n",
       "      <th>КодНоменклатуры</th>\n",
       "      <th>КодСерии</th>\n",
       "      <th>Количество</th>\n",
       "      <th>Номенклатура</th>\n",
       "      <th>Серия</th>\n",
       "      <th>Склад</th>\n",
       "      <th>Сумма</th>\n",
       "      <th>ЭтоБухгалтерия</th>\n",
       "    </tr>\n",
       "  </thead>\n",
       "  <tbody>\n",
       "    <tr>\n",
       "      <th>0</th>\n",
       "      <td>00000000012</td>\n",
       "      <td>000017723</td>\n",
       "      <td>20.0</td>\n",
       "      <td>Амортизатор (подушка) двигателя АКСС-400М</td>\n",
       "      <td>2-032608112019N00133-21</td>\n",
       "      <td>Склад №5</td>\n",
       "      <td>55853.40</td>\n",
       "      <td>False</td>\n",
       "    </tr>\n",
       "    <tr>\n",
       "      <th>1</th>\n",
       "      <td>00000000012</td>\n",
       "      <td>000018136</td>\n",
       "      <td>138.0</td>\n",
       "      <td>Амортизатор (подушка) двигателя АКСС-400М</td>\n",
       "      <td>2-032629112019N00197-24</td>\n",
       "      <td>Склад №2 Жабский В.</td>\n",
       "      <td>393545.81</td>\n",
       "      <td>False</td>\n",
       "    </tr>\n",
       "    <tr>\n",
       "      <th>2</th>\n",
       "      <td>00000000012</td>\n",
       "      <td>000018136</td>\n",
       "      <td>60.0</td>\n",
       "      <td>Амортизатор (подушка) двигателя АКСС-400М</td>\n",
       "      <td>2-032629112019N00197-24</td>\n",
       "      <td>Склад Костанай</td>\n",
       "      <td>171057.60</td>\n",
       "      <td>False</td>\n",
       "    </tr>\n",
       "    <tr>\n",
       "      <th>3</th>\n",
       "      <td>00000000012</td>\n",
       "      <td>000017723</td>\n",
       "      <td>1.0</td>\n",
       "      <td>Амортизатор (подушка) двигателя АКСС-400М</td>\n",
       "      <td>2-032608112019N00133-21</td>\n",
       "      <td>Склад Костанай</td>\n",
       "      <td>2850.68</td>\n",
       "      <td>False</td>\n",
       "    </tr>\n",
       "    <tr>\n",
       "      <th>4</th>\n",
       "      <td>00000000012</td>\n",
       "      <td>000018136</td>\n",
       "      <td>8.0</td>\n",
       "      <td>Амортизатор (подушка) двигателя АКСС-400М</td>\n",
       "      <td>2-032629112019N00197-24</td>\n",
       "      <td>Cклад Петропавловск</td>\n",
       "      <td>22329.36</td>\n",
       "      <td>False</td>\n",
       "    </tr>\n",
       "  </tbody>\n",
       "</table>\n",
       "</div>"
      ],
      "text/plain": [
       "  КодНоменклатуры   КодСерии  Количество                               Номенклатура                    Серия                Склад      Сумма  ЭтоБухгалтерия\n",
       "0  00000000012     000017723  20.0        Амортизатор (подушка) двигателя АКСС-400М  2-032608112019N00133-21  Склад №5             55853.40   False         \n",
       "1  00000000012     000018136  138.0       Амортизатор (подушка) двигателя АКСС-400М  2-032629112019N00197-24  Склад №2 Жабский В.  393545.81  False         \n",
       "2  00000000012     000018136  60.0        Амортизатор (подушка) двигателя АКСС-400М  2-032629112019N00197-24  Склад Костанай       171057.60  False         \n",
       "3  00000000012     000017723  1.0         Амортизатор (подушка) двигателя АКСС-400М  2-032608112019N00133-21  Склад Костанай       2850.68    False         \n",
       "4  00000000012     000018136  8.0         Амортизатор (подушка) двигателя АКСС-400М  2-032629112019N00197-24  Cклад Петропавловск  22329.36   False         "
      ]
     },
     "execution_count": 23,
     "metadata": {},
     "output_type": "execute_result"
    }
   ],
   "source": [
    "df_changed.head()"
   ]
  },
  {
   "cell_type": "code",
   "execution_count": 24,
   "metadata": {},
   "outputs": [
    {
     "data": {
      "text/plain": [
       "2303408009.09"
      ]
     },
     "execution_count": 24,
     "metadata": {},
     "output_type": "execute_result"
    }
   ],
   "source": [
    "df_changed[F_SUM].sum()"
   ]
  },
  {
   "cell_type": "code",
   "execution_count": 25,
   "metadata": {},
   "outputs": [
    {
     "data": {
      "text/plain": [
       "1040742.4900000001"
      ]
     },
     "execution_count": 25,
     "metadata": {},
     "output_type": "execute_result"
    }
   ],
   "source": [
    "df_changed[F_QUAN].sum()"
   ]
  },
  {
   "cell_type": "code",
   "execution_count": 26,
   "metadata": {},
   "outputs": [],
   "source": [
    "df_storage_grouped = df_changed.groupby([F_STORAGE]).sum().reset_index().sort_values(ascending=True, by='Склад')"
   ]
  },
  {
   "cell_type": "code",
   "execution_count": 27,
   "metadata": {},
   "outputs": [],
   "source": [
    "df_storage_grouped['Сумма'] = df_storage_grouped['Сумма'].map('{:,.2f}'.format)\n"
   ]
  },
  {
   "cell_type": "code",
   "execution_count": 28,
   "metadata": {},
   "outputs": [
    {
     "data": {
      "text/html": [
       "<div>\n",
       "<style scoped>\n",
       "    .dataframe tbody tr th:only-of-type {\n",
       "        vertical-align: middle;\n",
       "    }\n",
       "\n",
       "    .dataframe tbody tr th {\n",
       "        vertical-align: top;\n",
       "    }\n",
       "\n",
       "    .dataframe thead th {\n",
       "        text-align: right;\n",
       "    }\n",
       "</style>\n",
       "<table border=\"1\" class=\"dataframe\">\n",
       "  <thead>\n",
       "    <tr style=\"text-align: right;\">\n",
       "      <th></th>\n",
       "      <th>Склад</th>\n",
       "      <th>Количество</th>\n",
       "      <th>Сумма</th>\n",
       "      <th>ЭтоБухгалтерия</th>\n",
       "    </tr>\n",
       "  </thead>\n",
       "  <tbody>\n",
       "    <tr>\n",
       "      <th>0</th>\n",
       "      <td>Cклад Петропавловск</td>\n",
       "      <td>47470.50</td>\n",
       "      <td>149,147,260.39</td>\n",
       "      <td>0.0</td>\n",
       "    </tr>\n",
       "    <tr>\n",
       "      <th>1</th>\n",
       "      <td>Дуваров А.С.</td>\n",
       "      <td>15.00</td>\n",
       "      <td>21,173.66</td>\n",
       "      <td>0.0</td>\n",
       "    </tr>\n",
       "    <tr>\n",
       "      <th>2</th>\n",
       "      <td>Конычев О.В.</td>\n",
       "      <td>3.00</td>\n",
       "      <td>9,385.33</td>\n",
       "      <td>0.0</td>\n",
       "    </tr>\n",
       "    <tr>\n",
       "      <th>3</th>\n",
       "      <td>Краус В.Г.</td>\n",
       "      <td>25.00</td>\n",
       "      <td>211,012.90</td>\n",
       "      <td>0.0</td>\n",
       "    </tr>\n",
       "    <tr>\n",
       "      <th>4</th>\n",
       "      <td>Магазин Петропавловск</td>\n",
       "      <td>3852.80</td>\n",
       "      <td>23,720,007.28</td>\n",
       "      <td>0.0</td>\n",
       "    </tr>\n",
       "    <tr>\n",
       "      <th>5</th>\n",
       "      <td>Максимов В.И.</td>\n",
       "      <td>30384.09</td>\n",
       "      <td>10,236,558.00</td>\n",
       "      <td>1.0</td>\n",
       "    </tr>\n",
       "    <tr>\n",
       "      <th>6</th>\n",
       "      <td>Наемная машина</td>\n",
       "      <td>126.00</td>\n",
       "      <td>986,155.37</td>\n",
       "      <td>0.0</td>\n",
       "    </tr>\n",
       "    <tr>\n",
       "      <th>7</th>\n",
       "      <td>Никитин Ю.А.</td>\n",
       "      <td>10.00</td>\n",
       "      <td>281,358.40</td>\n",
       "      <td>0.0</td>\n",
       "    </tr>\n",
       "    <tr>\n",
       "      <th>8</th>\n",
       "      <td>Промзона Рамазанов Б.Б.</td>\n",
       "      <td>1925.67</td>\n",
       "      <td>38,828,368.69</td>\n",
       "      <td>0.0</td>\n",
       "    </tr>\n",
       "    <tr>\n",
       "      <th>9</th>\n",
       "      <td>Промзона Технолог Моисеев К.Г.</td>\n",
       "      <td>9.00</td>\n",
       "      <td>280,146.88</td>\n",
       "      <td>0.0</td>\n",
       "    </tr>\n",
       "    <tr>\n",
       "      <th>10</th>\n",
       "      <td>Проскурин А.Н.</td>\n",
       "      <td>200.00</td>\n",
       "      <td>44,545.47</td>\n",
       "      <td>0.0</td>\n",
       "    </tr>\n",
       "    <tr>\n",
       "      <th>11</th>\n",
       "      <td>Сазонов А.В.</td>\n",
       "      <td>13.00</td>\n",
       "      <td>94,705.49</td>\n",
       "      <td>0.0</td>\n",
       "    </tr>\n",
       "    <tr>\n",
       "      <th>12</th>\n",
       "      <td>Склад Державинск</td>\n",
       "      <td>24216.22</td>\n",
       "      <td>66,148,220.94</td>\n",
       "      <td>0.0</td>\n",
       "    </tr>\n",
       "    <tr>\n",
       "      <th>13</th>\n",
       "      <td>Склад Костанай</td>\n",
       "      <td>62991.50</td>\n",
       "      <td>244,378,134.61</td>\n",
       "      <td>0.0</td>\n",
       "    </tr>\n",
       "    <tr>\n",
       "      <th>14</th>\n",
       "      <td>Склад Нейвирт В.В.</td>\n",
       "      <td>207.00</td>\n",
       "      <td>2,655,814.87</td>\n",
       "      <td>0.0</td>\n",
       "    </tr>\n",
       "    <tr>\n",
       "      <th>15</th>\n",
       "      <td>Склад бр Оберемко В.</td>\n",
       "      <td>1652.30</td>\n",
       "      <td>9,320,667.02</td>\n",
       "      <td>2.0</td>\n",
       "    </tr>\n",
       "    <tr>\n",
       "      <th>16</th>\n",
       "      <td>Склад магазин Лащевский А.С.</td>\n",
       "      <td>4.00</td>\n",
       "      <td>555.29</td>\n",
       "      <td>0.0</td>\n",
       "    </tr>\n",
       "    <tr>\n",
       "      <th>17</th>\n",
       "      <td>Склад магазин Мергунов</td>\n",
       "      <td>2182.00</td>\n",
       "      <td>5,485,668.49</td>\n",
       "      <td>1.0</td>\n",
       "    </tr>\n",
       "    <tr>\n",
       "      <th>18</th>\n",
       "      <td>Склад №1</td>\n",
       "      <td>155081.93</td>\n",
       "      <td>363,424,267.14</td>\n",
       "      <td>3.0</td>\n",
       "    </tr>\n",
       "    <tr>\n",
       "      <th>19</th>\n",
       "      <td>Склад №2 Жабский В.</td>\n",
       "      <td>102665.44</td>\n",
       "      <td>351,236,804.15</td>\n",
       "      <td>1.0</td>\n",
       "    </tr>\n",
       "    <tr>\n",
       "      <th>20</th>\n",
       "      <td>Склад №3 Нейвирт В./Серба В.</td>\n",
       "      <td>310213.00</td>\n",
       "      <td>511,679,987.93</td>\n",
       "      <td>8.0</td>\n",
       "    </tr>\n",
       "    <tr>\n",
       "      <th>21</th>\n",
       "      <td>Склад №4 Бавин И.</td>\n",
       "      <td>92009.88</td>\n",
       "      <td>275,573,040.22</td>\n",
       "      <td>1.0</td>\n",
       "    </tr>\n",
       "    <tr>\n",
       "      <th>22</th>\n",
       "      <td>Склад №5</td>\n",
       "      <td>204696.66</td>\n",
       "      <td>248,054,737.74</td>\n",
       "      <td>1.0</td>\n",
       "    </tr>\n",
       "    <tr>\n",
       "      <th>23</th>\n",
       "      <td>Степанов С.А.</td>\n",
       "      <td>1.00</td>\n",
       "      <td>96,018.88</td>\n",
       "      <td>0.0</td>\n",
       "    </tr>\n",
       "    <tr>\n",
       "      <th>24</th>\n",
       "      <td>Ткач В.И.</td>\n",
       "      <td>102.00</td>\n",
       "      <td>22,816.92</td>\n",
       "      <td>0.0</td>\n",
       "    </tr>\n",
       "    <tr>\n",
       "      <th>25</th>\n",
       "      <td>Ткач И.И.</td>\n",
       "      <td>406.00</td>\n",
       "      <td>122,556.38</td>\n",
       "      <td>0.0</td>\n",
       "    </tr>\n",
       "    <tr>\n",
       "      <th>26</th>\n",
       "      <td>Фидченко В.В.</td>\n",
       "      <td>2.00</td>\n",
       "      <td>2,336.01</td>\n",
       "      <td>0.0</td>\n",
       "    </tr>\n",
       "    <tr>\n",
       "      <th>27</th>\n",
       "      <td>Фидченко Д.В.</td>\n",
       "      <td>78.00</td>\n",
       "      <td>712,175.32</td>\n",
       "      <td>0.0</td>\n",
       "    </tr>\n",
       "    <tr>\n",
       "      <th>28</th>\n",
       "      <td>Шерстюк С.М.</td>\n",
       "      <td>1.00</td>\n",
       "      <td>2,881.31</td>\n",
       "      <td>0.0</td>\n",
       "    </tr>\n",
       "    <tr>\n",
       "      <th>29</th>\n",
       "      <td>склад Лукьянов М.В.</td>\n",
       "      <td>198.50</td>\n",
       "      <td>630,648.01</td>\n",
       "      <td>0.0</td>\n",
       "    </tr>\n",
       "  </tbody>\n",
       "</table>\n",
       "</div>"
      ],
      "text/plain": [
       "                             Склад  Количество           Сумма  ЭтоБухгалтерия\n",
       "0   Cклад Петропавловск             47470.50    149,147,260.39  0.0           \n",
       "1   Дуваров А.С.                    15.00       21,173.66       0.0           \n",
       "2   Конычев О.В.                    3.00        9,385.33        0.0           \n",
       "3   Краус В.Г.                      25.00       211,012.90      0.0           \n",
       "4   Магазин Петропавловск           3852.80     23,720,007.28   0.0           \n",
       "5   Максимов В.И.                   30384.09    10,236,558.00   1.0           \n",
       "6   Наемная машина                  126.00      986,155.37      0.0           \n",
       "7   Никитин Ю.А.                    10.00       281,358.40      0.0           \n",
       "8   Промзона Рамазанов Б.Б.         1925.67     38,828,368.69   0.0           \n",
       "9   Промзона Технолог Моисеев К.Г.  9.00        280,146.88      0.0           \n",
       "10  Проскурин А.Н.                  200.00      44,545.47       0.0           \n",
       "11  Сазонов А.В.                    13.00       94,705.49       0.0           \n",
       "12  Склад Державинск                24216.22    66,148,220.94   0.0           \n",
       "13  Склад Костанай                  62991.50    244,378,134.61  0.0           \n",
       "14  Склад Нейвирт В.В.              207.00      2,655,814.87    0.0           \n",
       "15  Склад бр Оберемко В.            1652.30     9,320,667.02    2.0           \n",
       "16  Склад магазин Лащевский А.С.    4.00        555.29          0.0           \n",
       "17  Склад магазин Мергунов          2182.00     5,485,668.49    1.0           \n",
       "18  Склад №1                        155081.93   363,424,267.14  3.0           \n",
       "19  Склад №2 Жабский В.             102665.44   351,236,804.15  1.0           \n",
       "20  Склад №3 Нейвирт В./Серба В.    310213.00   511,679,987.93  8.0           \n",
       "21  Склад №4 Бавин И.               92009.88    275,573,040.22  1.0           \n",
       "22  Склад №5                        204696.66   248,054,737.74  1.0           \n",
       "23  Степанов С.А.                   1.00        96,018.88       0.0           \n",
       "24  Ткач В.И.                       102.00      22,816.92       0.0           \n",
       "25  Ткач И.И.                       406.00      122,556.38      0.0           \n",
       "26  Фидченко В.В.                   2.00        2,336.01        0.0           \n",
       "27  Фидченко Д.В.                   78.00       712,175.32      0.0           \n",
       "28  Шерстюк С.М.                    1.00        2,881.31        0.0           \n",
       "29  склад Лукьянов М.В.             198.50      630,648.01      0.0           "
      ]
     },
     "execution_count": 28,
     "metadata": {},
     "output_type": "execute_result"
    }
   ],
   "source": [
    "df_storage_grouped"
   ]
  },
  {
   "cell_type": "code",
   "execution_count": 29,
   "metadata": {},
   "outputs": [
    {
     "data": {
      "text/plain": [
       "2303408009.09"
      ]
     },
     "execution_count": 29,
     "metadata": {},
     "output_type": "execute_result"
    }
   ],
   "source": [
    "df_changed[F_SUM].sum()"
   ]
  },
  {
   "cell_type": "code",
   "execution_count": 30,
   "metadata": {},
   "outputs": [
    {
     "data": {
      "text/plain": [
       "1040742.4900000001"
      ]
     },
     "execution_count": 30,
     "metadata": {},
     "output_type": "execute_result"
    }
   ],
   "source": [
    "df_changed[F_QUAN].sum()"
   ]
  },
  {
   "cell_type": "code",
   "execution_count": null,
   "metadata": {},
   "outputs": [],
   "source": []
  }
 ],
 "metadata": {
  "kernelspec": {
   "display_name": "Python 3",
   "language": "python",
   "name": "python3"
  },
  "language_info": {
   "codemirror_mode": {
    "name": "ipython",
    "version": 3
   },
   "file_extension": ".py",
   "mimetype": "text/x-python",
   "name": "python",
   "nbconvert_exporter": "python",
   "pygments_lexer": "ipython3",
   "version": "3.7.1"
  }
 },
 "nbformat": 4,
 "nbformat_minor": 2
}
