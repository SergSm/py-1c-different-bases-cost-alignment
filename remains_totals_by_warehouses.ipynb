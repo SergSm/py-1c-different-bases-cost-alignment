{
 "cells": [
  {
   "cell_type": "code",
   "execution_count": 117,
   "metadata": {},
   "outputs": [],
   "source": [
    "import numpy as np\n",
    "\n",
    "import pandas as pd\n",
    "from IPython.display import display, HTML\n",
    "pd.set_option('display.max_rows', 500)\n",
    "pd.set_option('display.max_columns', 50) #  columns count\n",
    "pd.set_option('display.max_colwidth', -1)  # columns width \n",
    "\n",
    "# Use 3 decimal places in output display\n",
    "pd.set_option(\"display.precision\", 3)\n",
    "\n",
    "# Don't wrap repr(DataFrame) across additional lines\n",
    "pd.set_option(\"display.expand_frame_repr\", False)\n"
   ]
  },
  {
   "cell_type": "code",
   "execution_count": 118,
   "metadata": {},
   "outputs": [],
   "source": [
    "# file pathes to input data\n",
    "#fp_ut = 'UT.csv'     \n",
    "#fp_buh =  'BUH.csv'\n",
    "fp_changed =\"final_UT_BUH.xlsx\""
   ]
  },
  {
   "cell_type": "code",
   "execution_count": 119,
   "metadata": {},
   "outputs": [],
   "source": [
    "# Describe field names\n",
    "# F means Field\n",
    "F_ITEM = 'Номенклатура'\n",
    "F_CODE = 'КодНоменклатуры'\n",
    "F_SUM = 'Сумма'\n",
    "F_QUAN = 'Количество'\n",
    "F_SERIESCODE = 'КодСерии'\n",
    "F_STORAGE = 'Склад'"
   ]
  },
  {
   "cell_type": "code",
   "execution_count": 120,
   "metadata": {},
   "outputs": [],
   "source": [
    "# ABOUT THE DATA\n",
    "# both files has similar columns but the UT has additional columns 'Серия', \"КодСерии\"\n",
    "# both files has 'quantity' and 'sum' fields\n",
    "\n",
    "float_type_rows = [F_QUAN, F_SUM] # the specifeid field will be converted to float"
   ]
  },
  {
   "cell_type": "code",
   "execution_count": 121,
   "metadata": {},
   "outputs": [],
   "source": [
    "# clean up data for the given Series\n",
    "def clean_up_for_numeric(given_df, df_name, col_name):\n",
    "    '''col_name - column name for cleaning '''\n",
    "    given_df[col_name].replace(u'\\xa0',u'', regex=True, inplace=True) # clean up the no-break spaces\n",
    "    given_df[col_name].replace(u',',u'.', regex=True, inplace=True)  # repalce commas with the dots\n",
    "    print(\"Cleaning data in \",col_name,\" column successfull for\", df_name)\n",
    "    return True\n",
    "\n",
    "# converts the given series to a float type\n",
    "def convert_to_float(given_df, df_name, col_name): # 'df_name is the name of the datframe\n",
    "    given_df[col_name] = given_df[col_name].astype(float)\n",
    "    print(\"Converting \", col_name, \" column in float successful for \", df_name)\n",
    "    return True"
   ]
  },
  {
   "cell_type": "code",
   "execution_count": 122,
   "metadata": {},
   "outputs": [],
   "source": [
    "# All code needed to check the difference of concatenating ut and buh listed below\n",
    "###############################################################################################\n",
    "# reread the new file\n",
    "fp_changed =\"final_UT_BUH.xlsx\"\n",
    "#df_changed = pd.read_csv(fp_changed, sep=';', encoding='cp1251', dtype={F_SERIESCODE: 'str',F_CODE:'str',F_QUAN:float})\n",
    "df_changed = pd.read_excel(fp_changed, dtype={F_SERIESCODE: 'str',F_CODE:'str',F_QUAN:float,F_SUM:float}, decimal=\" \")"
   ]
  },
  {
   "cell_type": "code",
   "execution_count": 123,
   "metadata": {},
   "outputs": [
    {
     "name": "stdout",
     "output_type": "stream",
     "text": [
      "Cleaning data in  Количество  column successfull for df_changed\n",
      "Converting  Количество  column in float successful for  df_changed\n",
      "Cleaning data in  Сумма  column successfull for df_changed\n",
      "Converting  Сумма  column in float successful for  df_changed\n"
     ]
    }
   ],
   "source": [
    "# Clean up the data in buh_ut\n",
    "#    Convert Quantity and Sum fields to numeric\n",
    "#    the quantity column may have a \\xa0 symbol (no-break space)\n",
    "# To figure out the value which can not be converted use: df.apply(pd.to_numeric)\n",
    "\n",
    "# Remove NB spaces and replace commas with dots for columns Quantity and Sum\n",
    "for float_col_name in float_type_rows:\n",
    "        clean_up_for_numeric(df_changed, 'df_changed', float_col_name)\n",
    "        convert_to_float(df_changed, 'df_changed', float_col_name)"
   ]
  },
  {
   "cell_type": "code",
   "execution_count": 124,
   "metadata": {},
   "outputs": [
    {
     "data": {
      "text/html": [
       "<div>\n",
       "<style scoped>\n",
       "    .dataframe tbody tr th:only-of-type {\n",
       "        vertical-align: middle;\n",
       "    }\n",
       "\n",
       "    .dataframe tbody tr th {\n",
       "        vertical-align: top;\n",
       "    }\n",
       "\n",
       "    .dataframe thead th {\n",
       "        text-align: right;\n",
       "    }\n",
       "</style>\n",
       "<table border=\"1\" class=\"dataframe\">\n",
       "  <thead>\n",
       "    <tr style=\"text-align: right;\">\n",
       "      <th></th>\n",
       "      <th>КодНоменклатуры</th>\n",
       "      <th>КодСерии</th>\n",
       "      <th>Количество</th>\n",
       "      <th>Номенклатура</th>\n",
       "      <th>Серия</th>\n",
       "      <th>Склад</th>\n",
       "      <th>Сумма</th>\n",
       "      <th>ЭтоБухгалтерия</th>\n",
       "    </tr>\n",
       "  </thead>\n",
       "  <tbody>\n",
       "    <tr>\n",
       "      <th>0</th>\n",
       "      <td>00000000678</td>\n",
       "      <td>nan</td>\n",
       "      <td>42.0</td>\n",
       "      <td>Тяга регулятора ПД-10</td>\n",
       "      <td>NaN</td>\n",
       "      <td>Склад №1</td>\n",
       "      <td>24442.44</td>\n",
       "      <td>False</td>\n",
       "    </tr>\n",
       "    <tr>\n",
       "      <th>1</th>\n",
       "      <td>00000000804</td>\n",
       "      <td>nan</td>\n",
       "      <td>3.0</td>\n",
       "      <td>Манометр (0-10атм) мех-й. (14.3830)</td>\n",
       "      <td>NaN</td>\n",
       "      <td>Склад №1</td>\n",
       "      <td>7099.25</td>\n",
       "      <td>False</td>\n",
       "    </tr>\n",
       "    <tr>\n",
       "      <th>2</th>\n",
       "      <td>00000000814</td>\n",
       "      <td>nan</td>\n",
       "      <td>50.0</td>\n",
       "      <td>Реле-регулятор напряжения мех-й 12в (774.3702)</td>\n",
       "      <td>NaN</td>\n",
       "      <td>Склад №1</td>\n",
       "      <td>19457.19</td>\n",
       "      <td>False</td>\n",
       "    </tr>\n",
       "    <tr>\n",
       "      <th>3</th>\n",
       "      <td>00000001227</td>\n",
       "      <td>nan</td>\n",
       "      <td>20.0</td>\n",
       "      <td>Манометр (0-6 атм) мех-й.(11.3816)</td>\n",
       "      <td>NaN</td>\n",
       "      <td>Склад №1</td>\n",
       "      <td>26924.54</td>\n",
       "      <td>True</td>\n",
       "    </tr>\n",
       "    <tr>\n",
       "      <th>4</th>\n",
       "      <td>00000001285</td>\n",
       "      <td>nan</td>\n",
       "      <td>17.0</td>\n",
       "      <td>Манометр (0-16атм) мех-й.</td>\n",
       "      <td>NaN</td>\n",
       "      <td>Склад №1</td>\n",
       "      <td>40229.06</td>\n",
       "      <td>False</td>\n",
       "    </tr>\n",
       "  </tbody>\n",
       "</table>\n",
       "</div>"
      ],
      "text/plain": [
       "  КодНоменклатуры КодСерии  Количество                                    Номенклатура Серия     Склад     Сумма  ЭтоБухгалтерия\n",
       "0  00000000678     nan      42.0        Тяга регулятора ПД-10                           NaN   Склад №1  24442.44  False         \n",
       "1  00000000804     nan      3.0         Манометр (0-10атм) мех-й. (14.3830)             NaN   Склад №1  7099.25   False         \n",
       "2  00000000814     nan      50.0        Реле-регулятор напряжения мех-й 12в (774.3702)  NaN   Склад №1  19457.19  False         \n",
       "3  00000001227     nan      20.0        Манометр (0-6 атм) мех-й.(11.3816)              NaN   Склад №1  26924.54  True          \n",
       "4  00000001285     nan      17.0        Манометр (0-16атм) мех-й.                       NaN   Склад №1  40229.06  False         "
      ]
     },
     "execution_count": 124,
     "metadata": {},
     "output_type": "execute_result"
    }
   ],
   "source": [
    "df_changed.head()"
   ]
  },
  {
   "cell_type": "code",
   "execution_count": 125,
   "metadata": {},
   "outputs": [
    {
     "data": {
      "text/plain": [
       "38890584.910000004"
      ]
     },
     "execution_count": 125,
     "metadata": {},
     "output_type": "execute_result"
    }
   ],
   "source": [
    "df_changed[F_SUM].sum()"
   ]
  },
  {
   "cell_type": "code",
   "execution_count": 126,
   "metadata": {},
   "outputs": [
    {
     "data": {
      "text/plain": [
       "11390.0"
      ]
     },
     "execution_count": 126,
     "metadata": {},
     "output_type": "execute_result"
    }
   ],
   "source": [
    "df_changed[F_QUAN].sum()"
   ]
  },
  {
   "cell_type": "code",
   "execution_count": 127,
   "metadata": {},
   "outputs": [],
   "source": [
    "df_storage_grouped = df_changed.groupby([F_STORAGE]).sum().reset_index().sort_values(ascending=True, by='Склад')"
   ]
  },
  {
   "cell_type": "code",
   "execution_count": 128,
   "metadata": {},
   "outputs": [],
   "source": [
    "df_storage_grouped['Сумма'] = df_storage_grouped['Сумма'].map('{:,.2f}'.format)\n"
   ]
  },
  {
   "cell_type": "code",
   "execution_count": 129,
   "metadata": {},
   "outputs": [
    {
     "data": {
      "text/html": [
       "<div>\n",
       "<style scoped>\n",
       "    .dataframe tbody tr th:only-of-type {\n",
       "        vertical-align: middle;\n",
       "    }\n",
       "\n",
       "    .dataframe tbody tr th {\n",
       "        vertical-align: top;\n",
       "    }\n",
       "\n",
       "    .dataframe thead th {\n",
       "        text-align: right;\n",
       "    }\n",
       "</style>\n",
       "<table border=\"1\" class=\"dataframe\">\n",
       "  <thead>\n",
       "    <tr style=\"text-align: right;\">\n",
       "      <th></th>\n",
       "      <th>Склад</th>\n",
       "      <th>Количество</th>\n",
       "      <th>Сумма</th>\n",
       "      <th>ЭтоБухгалтерия</th>\n",
       "    </tr>\n",
       "  </thead>\n",
       "  <tbody>\n",
       "    <tr>\n",
       "      <th>0</th>\n",
       "      <td>Склад №1</td>\n",
       "      <td>7498.0</td>\n",
       "      <td>26,917,542.92</td>\n",
       "      <td>74.0</td>\n",
       "    </tr>\n",
       "    <tr>\n",
       "      <th>1</th>\n",
       "      <td>Склад №2 Жабский В.</td>\n",
       "      <td>3892.0</td>\n",
       "      <td>11,973,041.99</td>\n",
       "      <td>21.0</td>\n",
       "    </tr>\n",
       "  </tbody>\n",
       "</table>\n",
       "</div>"
      ],
      "text/plain": [
       "                 Склад  Количество          Сумма  ЭтоБухгалтерия\n",
       "0  Склад №1             7498.0      26,917,542.92  74.0          \n",
       "1  Склад №2 Жабский В.  3892.0      11,973,041.99  21.0          "
      ]
     },
     "execution_count": 129,
     "metadata": {},
     "output_type": "execute_result"
    }
   ],
   "source": [
    "df_storage_grouped"
   ]
  },
  {
   "cell_type": "code",
   "execution_count": 130,
   "metadata": {},
   "outputs": [
    {
     "data": {
      "text/plain": [
       "38890584.910000004"
      ]
     },
     "execution_count": 130,
     "metadata": {},
     "output_type": "execute_result"
    }
   ],
   "source": [
    "df_changed[F_SUM].sum()"
   ]
  },
  {
   "cell_type": "code",
   "execution_count": 131,
   "metadata": {},
   "outputs": [
    {
     "data": {
      "text/plain": [
       "11390.0"
      ]
     },
     "execution_count": 131,
     "metadata": {},
     "output_type": "execute_result"
    }
   ],
   "source": [
    "df_changed[F_QUAN].sum()"
   ]
  },
  {
   "cell_type": "code",
   "execution_count": null,
   "metadata": {},
   "outputs": [],
   "source": []
  }
 ],
 "metadata": {
  "kernelspec": {
   "display_name": "Python 3",
   "language": "python",
   "name": "python3"
  },
  "language_info": {
   "codemirror_mode": {
    "name": "ipython",
    "version": 3
   },
   "file_extension": ".py",
   "mimetype": "text/x-python",
   "name": "python",
   "nbconvert_exporter": "python",
   "pygments_lexer": "ipython3",
   "version": "3.7.1"
  }
 },
 "nbformat": 4,
 "nbformat_minor": 2
}
