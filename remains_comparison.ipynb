{
 "cells": [
  {
   "cell_type": "code",
   "execution_count": null,
   "metadata": {},
   "outputs": [],
   "source": [
    "import pandas as pd\n",
    "from IPython.display import display, HTML\n",
    "pd.set_option('display.max_rows', 500)\n",
    "\n",
    "import numpy as np"
   ]
  },
  {
   "cell_type": "code",
   "execution_count": null,
   "metadata": {},
   "outputs": [],
   "source": [
    "fp_ut =  'UT.csv'\n",
    "df_ut = pd.read_csv(fp_ut, sep=';', dtype={'КодСерии': 'str','КодНоменклатуры':'str','Количество':float})\n",
    "#df_ut = pd.read_csv(fp_ut, sep=';', dtype={'КодСерии': 'str','КодНоменклатуры':'str'})\n",
    "\n",
    "# if df_ut.Количество.dtype == 'str':\n",
    "#     df_ut['Количество'] = df_ut['Количество'].str.strip() # removing whitespace\n",
    "#     df_ut['Количество'] = df_ut['Количество'].str.replace(\" \",\"\") # removing whitespace\n",
    "#     df_ut['Количество'] = df_ut['Количество'].str.replace(\"\\xa0\",\"\") # removing whitespace\n",
    "#     #df_ut['Количество'] = df_ut['Количество'].str.replace(\"\\xa\",\"\") # removing whitespace\n",
    "#     df_ut['Количество'] = df_ut['Количество'].str.replace(\",\",\".\") # removing whitespace# Replace , with . in dataseries\n",
    "#     df_ut['Количество'] = df_ut['Количество'].fillna(0.0)\n",
    "#     df_ut['Количество'] = df_ut['Количество'].astype(float)\n",
    "#     df_ut['Количество'] = pd.to_numeric(df_ut['Количество'])\n"
   ]
  },
  {
   "cell_type": "code",
   "execution_count": null,
   "metadata": {},
   "outputs": [],
   "source": [
    "#display(df_ut.head)\n",
    "df_ut"
   ]
  },
  {
   "cell_type": "code",
   "execution_count": null,
   "metadata": {},
   "outputs": [],
   "source": [
    "# ADDING FLAG TO MARK THE RECORDS AS BUH\n",
    "df_ut['ЭтоБухгалтерия'] = False"
   ]
  },
  {
   "cell_type": "code",
   "execution_count": null,
   "metadata": {},
   "outputs": [],
   "source": [
    "fp_buh =  'BUH.csv'\n",
    "df_buh = pd.read_csv(fp_buh,sep=';', dtype={'КодНоменклатуры': 'str','Сумма':float, 'Количество':float}) # 'Сумма':'str' is intentionally left\n",
    "\n",
    "# print(df_buh.Количество.dtype)\n",
    "# if df_buh.Количество.dtype == 'str':\n",
    "#     df_buh['Количество'] = df_buh['Количество'].str.strip() # removing whitespace\n",
    "#     df_buh['Количество'] = df_buh['Количество'].str.replace(\" \",\"\") # removing whitespace\n",
    "#     df_buh['Количество'] = df_buh['Количество'].str.replace(\"\\xa0\",\"\") # removing whitespace\n",
    "#     df_buh['Количество'] = df_buh['Количество'].str.replace(\",\",\".\") # removing whitespace# Replace , with . in dataseries\n",
    "#     df_buh['Количество'] = df_buh['Количество'].fillna(0.0)\n",
    "#     df_buh['Количество'] = df_buh['Количество'].astype(float)\n",
    "#     df_buh['Количество'] = pd.to_numeric(df_buh['Количество'])\n",
    "\n",
    "# #print(df_buh['Сумма'].dtype)\n",
    "# #if df_buh['Сумма'].dtype == 'str':\n",
    "#     #print(\"sdfsdfsdfsdfsd\")\n",
    "#     df_buh['Сумма'] = df_buh['Сумма'].str.replace(\" \",\"\") # removing whitespace\n",
    "#     df_buh['Сумма'] = df_buh['Сумма'].str.replace(\"\\xa0\",\"\") # removing whitespace\n",
    "#     df_buh['Сумма'] = df_buh['Сумма'].str.replace(\",\",\".\") # removing whitespace# Replace , with . in dataseries\n",
    "#     df_buh['Сумма'] = df_buh['Сумма'].str.strip() # removing whitespace\n",
    "#     df_buh['Сумма'] = df_buh['Сумма'].fillna(0.0)\n",
    "#     df_buh['Сумма'] = df_buh['Сумма'].astype(float)"
   ]
  },
  {
   "cell_type": "code",
   "execution_count": null,
   "metadata": {},
   "outputs": [],
   "source": [
    "df_buh.Сумма.dtype"
   ]
  },
  {
   "cell_type": "code",
   "execution_count": null,
   "metadata": {},
   "outputs": [],
   "source": [
    "# ADDING FLAG TO MARK THE RECORDS AS BUH\n",
    "df_buh['ЭтоБухгалтерия'] = True"
   ]
  },
  {
   "cell_type": "code",
   "execution_count": null,
   "metadata": {},
   "outputs": [],
   "source": [
    "DF_UT_rows = df_ut.shape[0]\n",
    "print(df_ut.shape)\n",
    "print(df_ut.sum(numeric_only=True)) # output SUMM\n",
    "df_ut = df_ut.sort_values(by=['КодНоменклатуры'])"
   ]
  },
  {
   "cell_type": "code",
   "execution_count": null,
   "metadata": {},
   "outputs": [],
   "source": [
    "DF_BUH_rows = df_buh.shape[0]\n",
    "print(df_buh.shape) # \n",
    "print(df_buh.sum(numeric_only=True)) # output SUMM\n",
    "df_buh = df_buh.sort_values(by=['КодНоменклатуры'])"
   ]
  },
  {
   "cell_type": "code",
   "execution_count": null,
   "metadata": {},
   "outputs": [],
   "source": [
    "df = pd.concat([df_ut, df_buh], sort=True) # sets union\n",
    "df.reset_index(drop=True)"
   ]
  },
  {
   "cell_type": "code",
   "execution_count": null,
   "metadata": {},
   "outputs": [],
   "source": [
    "df['КодНоменклатуры'] = df['КодНоменклатуры'].astype(str) # convert to string\n",
    "df['КодНоменклатуры'] = df['КодНоменклатуры'].str.strip() # removing whitespace\n",
    "df['КодНоменклатуры'] = df['КодНоменклатуры'].replace('nan','')"
   ]
  },
  {
   "cell_type": "code",
   "execution_count": null,
   "metadata": {},
   "outputs": [],
   "source": [
    "df['Количество'] = df['Количество'].fillna(0.0)\n",
    "df['Количество'] = df['Количество'].astype(float)"
   ]
  },
  {
   "cell_type": "code",
   "execution_count": null,
   "metadata": {},
   "outputs": [],
   "source": [
    "##df.to_csv('UT_BUH.csv',sep=';',encoding='cp1251', index_label=False) # fix first error:\n",
    "##UnicodeEncodeError: 'charmap' codec can't encode character '\\xd7' in position 56: character maps to <undefined>"
   ]
  },
  {
   "cell_type": "code",
   "execution_count": null,
   "metadata": {},
   "outputs": [],
   "source": [
    "df.to_excel('UT_BUH.xlsx',index_label=False,index=False)"
   ]
  },
  {
   "cell_type": "code",
   "execution_count": null,
   "metadata": {},
   "outputs": [],
   "source": [
    "print(\"United DF, rows:\",df.shape[0],\" cols:\",df.shape[1])"
   ]
  },
  {
   "cell_type": "code",
   "execution_count": null,
   "metadata": {},
   "outputs": [],
   "source": [
    "subset_of_rows=['КодНоменклатуры','Номенклатура','Склад']\n",
    "duplicated_df_series = df.duplicated(subset=subset_of_rows,keep=False)"
   ]
  },
  {
   "cell_type": "code",
   "execution_count": null,
   "metadata": {},
   "outputs": [],
   "source": [
    "# Select all duplicate rows based on all columns\n",
    "duplicateRowsDF = df[duplicated_df_series]\n",
    "#print(\"All Duplicate Rows based on all columns are :\")\n",
    "#print(type(duplicateRowsDF))\n",
    "#duplicateRowsDF\n",
    "duplicateRowsDF = duplicateRowsDF.reset_index(drop=True)\n",
    "#duplicateRowsDF.sort_index(inplace=True)"
   ]
  },
  {
   "cell_type": "code",
   "execution_count": null,
   "metadata": {},
   "outputs": [],
   "source": [
    "##duplicateRowsDF"
   ]
  },
  {
   "cell_type": "code",
   "execution_count": null,
   "metadata": {},
   "outputs": [],
   "source": [
    "print(\"Duplicates DF, rows:\",duplicateRowsDF.shape[0],\" cols:\",duplicateRowsDF.shape[1])"
   ]
  },
  {
   "cell_type": "code",
   "execution_count": null,
   "metadata": {},
   "outputs": [],
   "source": [
    "df.sum(numeric_only=True)"
   ]
  },
  {
   "cell_type": "code",
   "execution_count": null,
   "metadata": {},
   "outputs": [],
   "source": [
    "##df[df['КодНоменклатуры'] == \"7265\"] # example: 5 rows"
   ]
  },
  {
   "cell_type": "code",
   "execution_count": null,
   "metadata": {},
   "outputs": [],
   "source": [
    "##df"
   ]
  },
  {
   "cell_type": "code",
   "execution_count": null,
   "metadata": {},
   "outputs": [],
   "source": [
    "DF_rows_before_reducing = df.shape[0]\n",
    "print(\"DF before duplicates removing, rows:\",df.shape[0],\" cols:\",df.shape[1])\n",
    "DF_SUM_BEFORE = df.sum(numeric_only=True)\n",
    "print(DF_SUM_BEFORE[\"Сумма\"])"
   ]
  },
  {
   "cell_type": "code",
   "execution_count": null,
   "metadata": {},
   "outputs": [],
   "source": [
    "df.drop_duplicates(subset=subset_of_rows, \n",
    "                     keep = False, inplace = True) \n",
    "print(df.shape)\n",
    "DF_rows_AFTER_reducing = df.shape[0]\n",
    "DF_SUM_AFTER = df.sum(numeric_only=True)"
   ]
  },
  {
   "cell_type": "code",
   "execution_count": null,
   "metadata": {},
   "outputs": [],
   "source": [
    "##df"
   ]
  },
  {
   "cell_type": "code",
   "execution_count": null,
   "metadata": {},
   "outputs": [],
   "source": [
    "duplicateRowsDF\n",
    "duplicateRowsDF_rows_number = duplicateRowsDF.shape[0]\n",
    "duplicateRowsDF_summ = duplicateRowsDF.sum(numeric_only=True)"
   ]
  },
  {
   "cell_type": "code",
   "execution_count": null,
   "metadata": {},
   "outputs": [],
   "source": [
    "print(\"DF_UT_rows:\",DF_UT_rows)\n",
    "print(\"DF_BUH_row:\",DF_BUH_rows)\n",
    "print()\n",
    "print(\"DF_rows_before_reducing:\",DF_rows_before_reducing)\n",
    "print(\"DF_rows_AFTER_reducing:\",DF_rows_AFTER_reducing)\n",
    "print()\n",
    "print(\"duplicateRowsDF_rows_number:\",duplicateRowsDF_rows_number)"
   ]
  },
  {
   "cell_type": "code",
   "execution_count": null,
   "metadata": {},
   "outputs": [],
   "source": [
    "#print(\"DF before removing is:\",DF_SUM_BEFORE)\n",
    "#print()\n",
    "#print(\"DF after removing is:\",DF_SUM_AFTER)\n",
    "#print()\n",
    "#print('Summ difference is', DF_SUM_BEFORE-DF_SUM_AFTER)\n",
    "#print()\n",
    "#print('Summ of unique', duplicateRowsDF_summ)\n",
    "\n",
    "\n",
    "print(\"*******************\")\n",
    "\n",
    "print(\"Сумма до удаления дублей:\",DF_SUM_BEFORE[\"Сумма\"]) \n",
    "print(\"Сумма после удаления дублей:\",DF_SUM_AFTER[\"Сумма\"])\n",
    "print()\n",
    "print(\"Сумма дубликатов:            \", duplicateRowsDF_summ[\"Сумма\"])\n",
    "print('разница до от разницы после', round(DF_SUM_BEFORE[\"Сумма\"]-DF_SUM_AFTER[\"Сумма\"], 2)) # если тут разнциа то это ошибка\n",
    "      \n"
   ]
  },
  {
   "cell_type": "code",
   "execution_count": null,
   "metadata": {},
   "outputs": [],
   "source": [
    "print(\"rows dupl\",duplicateRowsDF.shape[0])\n",
    "print(duplicateRowsDF.sum(numeric_only=True))\n",
    "##display(duplicateRowsDF) "
   ]
  },
  {
   "cell_type": "code",
   "execution_count": null,
   "metadata": {},
   "outputs": [],
   "source": [
    "# watch the notebook - only buh has unique rows\n",
    "rows_of_buh = duplicateRowsDF[duplicateRowsDF['ЭтоБухгалтерия'] == True]"
   ]
  },
  {
   "cell_type": "code",
   "execution_count": null,
   "metadata": {},
   "outputs": [],
   "source": [
    "print(rows_of_buh.shape)\n",
    "print(rows_of_buh.sum(numeric_only=True))"
   ]
  },
  {
   "cell_type": "code",
   "execution_count": null,
   "metadata": {},
   "outputs": [],
   "source": [
    "##display(rows_of_buh.head(5))"
   ]
  },
  {
   "cell_type": "code",
   "execution_count": null,
   "metadata": {},
   "outputs": [],
   "source": [
    "counter = 0\n",
    "size_of_rows = rows_of_buh.shape[0]\n",
    "for index, row in rows_of_buh.iterrows():   \n",
    "    ##print(\"TEMP SERIES BEGIN\")\n",
    "    ##print(\"***************************************\")\n",
    "    ##print(\"index in duplicates is\", index)\n",
    "    #temp_df  = duplicateRowsDF.query('КодНоменклатуры == \"'+row['КодНоменклатуры']+'\" and Номенклатура ==\"'+row['Номенклатура']+'\" and Склад == \"'+row['Склад']+'\"', inplace = False)\n",
    "    temp_df  = duplicateRowsDF.query('КодНоменклатуры == \\''+row['КодНоменклатуры']+'\\' and Номенклатура ==\\''+row['Номенклатура']+'\\' and Склад == \\''+row['Склад']+'\\'', inplace = False)\n",
    "    buh_sum = row['Сумма']\n",
    "    counter+=1\n",
    "    print(\"counter:\",counter,\"/\",size_of_rows)\n",
    "    ##print(\"бухгалтерская сумма:\", buh_sum)  \n",
    "        \n",
    "    # Removing the buh string from temp_df otherwirse I won't be able to count the quantity of series in UT\n",
    "    ##############################\n",
    "    # Get names of indexes for which ЭтоБухгалтерия is true\n",
    "    indexNames = temp_df[temp_df['ЭтоБухгалтерия'] == True ].index\n",
    "    # Delete these row indexes from dataFrame\n",
    "    temp_df.drop(indexNames , inplace=True)\n",
    "    ##############################\n",
    "\n",
    "    temp_number_of_series = temp_df['Количество'].sum() \n",
    "    ##print(\"Количество по сериям: \",temp_number_of_series) \n",
    "    \n",
    "    # define the price\n",
    "    if temp_number_of_series != 0:\n",
    "        price = buh_sum / temp_number_of_series\n",
    "        price = round(price,2)\n",
    "    else:\n",
    "        price = 0.0\n",
    "        \n",
    "    ##print(\"Price of series is:\", price)\n",
    "    \n",
    "    summ_accum = 0.0 # the_sum_remains check \n",
    "    \n",
    "    # Summ distribution to series \n",
    "    for temp_index,temp_row in temp_df.iterrows():\n",
    "        current_sum = price * temp_row['Количество']\n",
    "        duplicateRowsDF.at[temp_index,'Сумма'] = round(current_sum,2)\n",
    "        ##print(\"Teh summ is\", duplicateRowsDF.at[temp_index,'Сумма'])\n",
    "        the_last_index = temp_index  # hope it won't clear iself after the loop\n",
    "        summ_accum+=round(current_sum,2)\n",
    "        \n",
    "    # the_sum_remains check\n",
    "    if summ_accum != buh_sum:\n",
    "        print(\"difference in \",row['КодНоменклатуры'],row['Номенклатура'],row['Склад'], \" sum if difference between \",buh_sum,\" and \",summ_accum)\n",
    "        summ_dif = buh_sum - summ_accum\n",
    "        duplicateRowsDF.at[the_last_index, 'Сумма'] += round(summ_dif,2)  # add the sum to the last row with the series\n",
    "  \n",
    "    ##display(temp_df)"
   ]
  },
  {
   "cell_type": "code",
   "execution_count": null,
   "metadata": {},
   "outputs": [],
   "source": [
    "# Removing buh-string from duplicates dataframe - we already got the sum\n",
    "############################################################################\n",
    "# Get names of indexes for which ЭтоБухгалтерия is true\n",
    "indexNames = duplicateRowsDF[duplicateRowsDF['ЭтоБухгалтерия'] == True ].index\n",
    "# Delete these row indexes from dataFrame\n",
    "duplicateRowsDF.drop(indexNames , inplace=True)\n",
    "##############################"
   ]
  },
  {
   "cell_type": "code",
   "execution_count": null,
   "metadata": {},
   "outputs": [],
   "source": [
    "##duplicateRowsDF[duplicateRowsDF['КодНоменклатуры'] == \"7265\"] "
   ]
  },
  {
   "cell_type": "code",
   "execution_count": null,
   "metadata": {},
   "outputs": [],
   "source": [
    "# adding fixed duplicates to the df\n",
    "df = pd.concat([df, duplicateRowsDF], sort=True) # sets union\n",
    "df.reset_index(drop=True)\n"
   ]
  },
  {
   "cell_type": "code",
   "execution_count": null,
   "metadata": {},
   "outputs": [],
   "source": [
    "df.shape"
   ]
  },
  {
   "cell_type": "code",
   "execution_count": null,
   "metadata": {},
   "outputs": [],
   "source": [
    "df.sum(numeric_only=True)[\"Количество\"]"
   ]
  },
  {
   "cell_type": "code",
   "execution_count": null,
   "metadata": {},
   "outputs": [],
   "source": [
    "round(df.sum(numeric_only=True)[\"Сумма\"],2)"
   ]
  },
  {
   "cell_type": "code",
   "execution_count": null,
   "metadata": {},
   "outputs": [],
   "source": [
    "df = df.sort_values(by=['КодНоменклатуры'])"
   ]
  },
  {
   "cell_type": "code",
   "execution_count": null,
   "metadata": {},
   "outputs": [],
   "source": [
    "##df"
   ]
  },
  {
   "cell_type": "code",
   "execution_count": null,
   "metadata": {},
   "outputs": [],
   "source": [
    "df.to_excel('final_UT_BUH.xlsx',index_label=False,index=False,float_format='%.2f') # TODO save as UTF-8"
   ]
  },
  {
   "cell_type": "code",
   "execution_count": null,
   "metadata": {},
   "outputs": [],
   "source": [
    "#############################################################################################\n",
    "# 10.01.2020 \n",
    "# df_quan_dif_['РазницаЦен'] = np.where(df1.Price1 == df2.Price2, '0', df1.Price1 - df2.Price2) #create new column in df1 for price diff \n",
    "#set_left_join = ['КодНоменклатуры','Номенклатура','Склад','КодСерии','Серия'] \n",
    "#new_df = pd.merge(df, df_ut,  how='left', left_on=set_left_join, right_on = set_left_join)\n",
    "\n",
    "# reread the new file\n",
    "fp_changed =\"final_UT_BUH_changeable.xlsx\"\n",
    "#df_changed = pd.read_csv(fp_changed, sep=';', encoding='cp1251', dtype={'КодСерии': 'str','КодНоменклатуры':'str','Количество':float})\n",
    "df_changed = pd.read_excel(fp_changed)"
   ]
  },
  {
   "cell_type": "code",
   "execution_count": null,
   "metadata": {},
   "outputs": [],
   "source": [
    "df_changed.dtypes"
   ]
  },
  {
   "cell_type": "code",
   "execution_count": null,
   "metadata": {},
   "outputs": [],
   "source": [
    "df_changed"
   ]
  },
  {
   "cell_type": "code",
   "execution_count": null,
   "metadata": {},
   "outputs": [],
   "source": [
    "df_ut"
   ]
  },
  {
   "cell_type": "code",
   "execution_count": null,
   "metadata": {},
   "outputs": [],
   "source": [
    "print(df_changed.shape[0])\n",
    "print()\n",
    "print(df_ut.shape[0])"
   ]
  },
  {
   "cell_type": "code",
   "execution_count": null,
   "metadata": {},
   "outputs": [],
   "source": [
    "df_changed = df_changed.drop(['ЭтоБухгалтерия'],  axis = 1)"
   ]
  },
  {
   "cell_type": "code",
   "execution_count": null,
   "metadata": {},
   "outputs": [],
   "source": [
    "df_changed"
   ]
  },
  {
   "cell_type": "code",
   "execution_count": null,
   "metadata": {},
   "outputs": [],
   "source": [
    "df_ut = df_ut.drop(['ЭтоБухгалтерия'],  axis = 1)"
   ]
  },
  {
   "cell_type": "code",
   "execution_count": null,
   "metadata": {},
   "outputs": [],
   "source": [
    "df_ut"
   ]
  },
  {
   "cell_type": "code",
   "execution_count": null,
   "metadata": {},
   "outputs": [],
   "source": [
    "df_changed = df_changed.drop(['Сумма'],  axis = 1)\n",
    "df_ut = df_ut.drop(['Сумма'],  axis = 1)"
   ]
  },
  {
   "cell_type": "code",
   "execution_count": null,
   "metadata": {},
   "outputs": [],
   "source": [
    "# ANOTHER TRY\n",
    "############################################################################################\n",
    "# TODO: \n",
    "df_mem = df.copy(deep=True)  # deep=False - means no indices\n",
    "# dropping unwanted columns\n",
    "df_mem = df_mem.drop(['ЭтоБухгалтерия'],  axis = 1)\n",
    "df_mem = df_mem.drop(['Сумма'],  axis = 1)\n",
    "# converting columns\n",
    "df_mem['КодНоменклатуры'] = df_mem['КодНоменклатуры'].str.strip()\n",
    "df_mem['КодСерии'] = df_mem['КодСерии'].str.strip()\n",
    "df_mem['Номенклатура'] = df_mem['Номенклатура'].str.strip()\n",
    "df_mem['Серия'] = df_mem['Серия'].str.strip()\n",
    "df_mem['Склад'] = df_mem['Склад'].str.strip()\n",
    "# show example\n",
    "display(df_mem.head())\n",
    "print(df_mem.dtypes)\n",
    "df_mem.reset_index(inplace=True,drop=True)\n",
    "#display(df_mem.head)\n",
    "print(df_mem.columns.tolist())\n",
    "print(df_mem.dtypes)\n",
    "print(df_mem.shape)"
   ]
  },
  {
   "cell_type": "code",
   "execution_count": null,
   "metadata": {},
   "outputs": [],
   "source": [
    "df_mem.head()"
   ]
  },
  {
   "cell_type": "code",
   "execution_count": null,
   "metadata": {},
   "outputs": [],
   "source": [
    "df_ut['КодНоменклатуры'] = df_ut['КодНоменклатуры'].str.strip()\n",
    "df_ut['КодСерии'] = df_ut['КодСерии'].str.strip()\n",
    "df_ut['Номенклатура'] = df_ut['Номенклатура'].str.strip()\n",
    "df_ut['Серия'] = df_ut['Серия'].str.strip()\n",
    "df_ut['Склад'] = df_ut['Склад'].str.strip()\n",
    "\n",
    "print(df_ut.columns.tolist())\n",
    "\n",
    "print(df_ut.dtypes)\n",
    "\n",
    "df_ut = df_ut.reindex(columns=df_mem.columns.tolist())\n",
    "print(df_ut.reset_index(inplace=True,drop=True))\n",
    "print(df_ut.shape)"
   ]
  },
  {
   "cell_type": "code",
   "execution_count": null,
   "metadata": {},
   "outputs": [],
   "source": [
    "df_ut.head()"
   ]
  },
  {
   "cell_type": "code",
   "execution_count": null,
   "metadata": {},
   "outputs": [],
   "source": [
    "# Check col names\n",
    "########\n",
    "cols1 = df_mem.columns.tolist()\n",
    "cols2 = df_ut.columns.tolist()\n",
    "print(cols1)\n",
    "print(cols2)\n",
    "if cols1 == cols2:\n",
    "    print('column names are equal')\n"
   ]
  },
  {
   "cell_type": "code",
   "execution_count": null,
   "metadata": {
    "scrolled": true
   },
   "outputs": [],
   "source": [
    "COL_NAME = 'КодНоменклатуры'\n",
    "#COL_NAME = 'Номенклатура'\n",
    "\n",
    "memcodes = list(set(df_mem[COL_NAME].tolist())) # All unique codes of items\n",
    "print(len(memcodes))\n",
    "memcodes.sort()\n",
    "print(memcodes[:10])\n",
    "\n",
    "utcodes = list(set(df_ut[COL_NAME].tolist()))\n",
    "print(len(utcodes))\n",
    "utcodes.sort()\n",
    "print(utcodes[:10])\n",
    "\n",
    "\n",
    "# Python program to illustrate the intersection \n",
    "# of two lists using set() method \n",
    "def intersection(lst1, lst2): \n",
    "    return list(set(lst1) & set(lst2)) \n",
    "\n",
    "common_codes = intersection(memcodes, utcodes)\n",
    "print(len(common_codes))\n",
    "print(common_codes[:10])\n",
    "\n",
    "\n",
    "print(\"len of memcodes \", len(memcodes))\n",
    "print()\n",
    "\n",
    "# MAKING LIST OF UNIQUE CODES FROM df_mem\n",
    "meme_count_uniq = 0\n",
    "meme_uni_codes = []\n",
    "# unique memcodes\n",
    "for code in memcodes:\n",
    "    if code not in common_codes:\n",
    "        meme_uni_codes.append(code)\n",
    "        meme_count_uniq += 1\n",
    "        \n",
    "print(\"Number of uniq values in _memcodes_\", meme_count_uniq)\n",
    "print()\n",
    "print(meme_uni_codes)\n",
    "\n",
    "\n",
    "ut_count_uniq = 0\n",
    "ut_uni_codes = []\n",
    "# unique memcodes\n",
    "for code in utcodes:\n",
    "    if code not in common_codes:\n",
    "        ut_uni_codes.append(code)\n",
    "        ut_count_uniq += 1\n",
    "        \n",
    "print(\"Number of uniq values in ut_codes\", ut_count_uniq)\n",
    "print()\n",
    "print(ut_uni_codes)\n",
    "print(\"DONE\")\n"
   ]
  },
  {
   "cell_type": "code",
   "execution_count": null,
   "metadata": {},
   "outputs": [],
   "source": [
    "df_names_are_different_in_UT_BUH = df_mem[df_mem[COL_NAME].isin(meme_uni_codes)]"
   ]
  },
  {
   "cell_type": "code",
   "execution_count": null,
   "metadata": {},
   "outputs": [],
   "source": [
    "df_names_are_different_in_UT_BUH"
   ]
  },
  {
   "cell_type": "code",
   "execution_count": null,
   "metadata": {},
   "outputs": [],
   "source": [
    "df_ut[df_ut[\"КодНоменклатуры\"].isin(meme_uni_codes)] # empty is right"
   ]
  },
  {
   "cell_type": "code",
   "execution_count": null,
   "metadata": {},
   "outputs": [],
   "source": [
    "print(df_mem.shape)\n",
    "print(df_ut.shape)\n",
    "common = df_mem.merge(df_ut,on=['КодНоменклатуры','КодСерии','Номенклатура','Серия','Склад','Количество'])\n",
    "print(common.shape) #"
   ]
  },
  {
   "cell_type": "code",
   "execution_count": null,
   "metadata": {},
   "outputs": [],
   "source": [
    "df_names_are_different_in_UT_BUH.to_excel('different_names.xlsx',index_label=False,index=False,float_format='%.2f') "
   ]
  },
  {
   "cell_type": "code",
   "execution_count": null,
   "metadata": {},
   "outputs": [],
   "source": [
    "# unique = df_mem[\n",
    "#          (~df_mem.КодНоменклатуры.isin(common.КодНоменклатуры))\n",
    "#         &(~df_mem.КодСерии.isin(common.КодСерии))\n",
    "#         &(~df_mem.Номенклатура.isin(common.Номенклатура))\n",
    "#         &(~df_mem.Серия.isin(common.Серия))\n",
    "#         &(~df_mem.Склад.isin(common.Склад))\n",
    "#         ]"
   ]
  },
  {
   "cell_type": "code",
   "execution_count": null,
   "metadata": {},
   "outputs": [],
   "source": [
    "# GROUPING\n",
    "# the_ut_group = df_ut.groupby(by=['КодНоменклатуры','КодСерии','Номенклатура','Серия','Склад'])\n",
    "# for key, values in the_ut_group.iteritems():\n",
    "#     print(df.ix[values], \"\\n\\n\")\n"
   ]
  },
  {
   "cell_type": "code",
   "execution_count": null,
   "metadata": {},
   "outputs": [],
   "source": [
    "#df_mem.sort_index(axis=1) == df_ut.sort_index(axis=1) # Can only compare identically-labeled DataFrame objects\n",
    "#df_mem.sort_index().sort_index(axis=1) == df_ut.sort_index().sort_index(axis=1) # Can only compare identically-labeled DataFrame objects\n",
    "#print(df_mem.reset_index(drop=True) == df_ut.reset_index(drop=True)) # Can only compare identically-labeled DataFrame objects\n",
    "\n",
    "# dif = pd.concat([df_mem, df_ut])\n",
    "# dif = dif.reset_index(drop=True)\n",
    "# dif_gpby = dif.groupby(list(dif.columns))\n",
    "# idx = [x[0] for x in dif_gpby.groups.values() if len(x) == 1]\n",
    "# dif.reindex(idx)\n",
    "\n",
    "#df_diff = pd.concat([df_mem,df_ut]).drop_duplicates(keep=False)"
   ]
  },
  {
   "cell_type": "code",
   "execution_count": null,
   "metadata": {},
   "outputs": [],
   "source": [
    "# # Examples of DF merging\n",
    "#common = df_mem.merge(df_ut,on=['КодНоменклатуры','КодСерии','Номенклатура','Серия','Склад','Количество'])\n",
    "# #common = df_mem.merge(df_ut,on=['КодНоменклатуры'])\n",
    "# #common = df_ut.merge(df_mem,on=['КодНоменклатуры','КодСерии','Номенклатура','Серия','Склад','Количество'])\n",
    "# #common = pd.concat([df_mem, df_ut], ignore_index=True)\n",
    "\n",
    "#common.shape\n",
    "\n",
    "# common[(common['КодНоменклатуры'].str.contains(\"10887\"))]\n",
    "\n",
    "# # huh = df_mem[\n",
    "# #          (~df_mem.КодНоменклатуры.isin(common.КодНоменклатуры))\n",
    "# #         &(~df_mem.КодСерии.isin(common.КодСерии))\n",
    "# #         &(~df_mem.Номенклатура.isin(common.Номенклатура))\n",
    "# #         &(~df_mem.Серия.isin(common.Серия))\n",
    "# #         &(~df_mem.Склад.isin(common.Склад))\n",
    "# #         ]\n",
    "# huh = df_ut[\n",
    "#          (~df_ut.КодНоменклатуры.isin(common.КодНоменклатуры))\n",
    "# #         &(~df_ut.КодСерии.isin(common.КодСерии))\n",
    "# #         &(~df_ut.Номенклатура.isin(common.Номенклатура))\n",
    "# #         &(~df_ut.Серия.isin(common.Серия))\n",
    "# #         &(~df_ut.Склад.isin(common.Склад))\n",
    "#        ## &(~df_ut.Количество.isin(common.Количество))\n",
    "#         ]\n",
    "\n",
    "\n",
    "# #df_mem[huh['']]\n",
    "\n",
    "# huh.sum(numeric_only=True)[\"Количество\"]\n",
    "# huh[huh['КодНоменклатуры'].str.contains(\"002775\")]['Номенклатура'].values\n",
    "\n",
    "# #nom_name = \"Клапан нагнетательный в сборе МТЗ (Ногинск)\"\n",
    "# df_ut[(df_ut['КодНоменклатуры'].str.contains(\"002775\"))]\n",
    "# #df_ut[df_ut['КодНоменклатуры'] == '006718']\n",
    "# df_mem[df_mem['КодНоменклатуры'].str.contains(\"002775\")]\n",
    "# example_mem = df_mem[df_mem['КодНоменклатуры'].str.contains(\"002775\")] \n",
    "# example_ut = df_ut[(df_ut['КодНоменклатуры'].str.contains(\"002775\"))]\n",
    "# #print(example_mem['Количество'].sum() )\n",
    "# #print(example_ut['Количество'].sum() )\n",
    "\n",
    "# example_mem.equals(example_ut)\n",
    "\n",
    "# huh_examp = example_mem[\n",
    "#          (example_mem.КодНоменклатуры.isin(example_ut.КодНоменклатуры))\n",
    "#       #  &(example_mem.КодСерии.isin(example_ut.КодСерии))\n",
    "#       #  &(example_mem.Номенклатура.isin(example_ut.Номенклатура))\n",
    "#       #  &(example_mem.Серия.isin(example_ut.Серия))\n",
    "#       #  &(example_mem.Склад.isin(example_ut.Склад))\n",
    "#        # &(~df_ut.Количество.isin(common.Количество))\n",
    "#         ]\n",
    "# display(huh_examp)"
   ]
  },
  {
   "cell_type": "code",
   "execution_count": null,
   "metadata": {},
   "outputs": [],
   "source": [
    "#df_difference = pd.concat([df_mem,df_ut]).drop_duplicates(subset=\"\"keep=False)"
   ]
  },
  {
   "cell_type": "code",
   "execution_count": null,
   "metadata": {},
   "outputs": [],
   "source": [
    "#df_difference.shape"
   ]
  },
  {
   "cell_type": "code",
   "execution_count": null,
   "metadata": {},
   "outputs": [],
   "source": [
    "# # code for showing strings from  dataframe using their indices\n",
    "\n",
    "# from collections import Counter\n",
    "\n",
    "# np_array = df_mem.index.values\n",
    "# list_of_indices = np_array.tolist()\n",
    "# for x in list_of_indices:\n",
    "#     if x == 5378:\n",
    "#         print(x)"
   ]
  },
  {
   "cell_type": "code",
   "execution_count": null,
   "metadata": {},
   "outputs": [],
   "source": [
    "# # getting duplicating indices\n",
    "# def get_dup_index_as_list():\n",
    "#     #result = [item for item, count in Counter(list_of_indices).items() if count > 1]\n",
    "#     result = []\n",
    "#     for item, count in Counter(list_of_indices).items() :\n",
    "#         if count > 1:\n",
    "#             print(item,\"___________________________________________count\",count)\n",
    "#             print(df_mem.iloc[item,])\n",
    "#             print(\"___________________________________________\")\n",
    "#             #print(\"item \",item, \" count\",count)\n",
    "#             result.append(item)\n",
    "            \n",
    "#     return result\n",
    "\n",
    "# get_dup_index_as_list()\n",
    "\n",
    "# # #show dataframes entries\n",
    "# # for ind_x in get_dup_index_as_list():\n",
    "# #     print(\"___________________________________________\")\n",
    "# #     print(ind_x) \n",
    "# #     print(\"___________________________________________\")\n",
    "# #     print(df_mem.iloc[[ind_x]])"
   ]
  }
 ],
 "metadata": {
  "kernelspec": {
   "display_name": "Python 3",
   "language": "python",
   "name": "python3"
  },
  "language_info": {
   "codemirror_mode": {
    "name": "ipython",
    "version": 3
   },
   "file_extension": ".py",
   "mimetype": "text/x-python",
   "name": "python",
   "nbconvert_exporter": "python",
   "pygments_lexer": "ipython3",
   "version": "3.7.1"
  }
 },
 "nbformat": 4,
 "nbformat_minor": 2
}
