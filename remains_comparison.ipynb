{
 "cells": [
  {
   "cell_type": "code",
   "execution_count": null,
   "metadata": {},
   "outputs": [],
   "source": [
    "import numpy as np\n",
    "\n",
    "import pandas as pd\n",
    "from IPython.display import display, HTML\n",
    "pd.set_option('display.max_rows', 500)"
   ]
  },
  {
   "cell_type": "code",
   "execution_count": null,
   "metadata": {},
   "outputs": [],
   "source": [
    "# file pathes to input data\n",
    "fp_ut = 'UT.csv'     \n",
    "fp_buh =  'BUH.csv'"
   ]
  },
  {
   "cell_type": "code",
   "execution_count": null,
   "metadata": {},
   "outputs": [],
   "source": [
    "# ABOUT THE DATA\n",
    "# both files has similar columns but the UT has additional columns 'Серия', \"КодСерии\"\n",
    "# both files has 'quantity' and 'sum' fields"
   ]
  },
  {
   "cell_type": "code",
   "execution_count": null,
   "metadata": {},
   "outputs": [],
   "source": [
    "df_ut = pd.read_csv(fp_ut, sep=';', dtype={'КодСерии': 'str','КодНоменклатуры':'str','Количество':float})"
   ]
  },
  {
   "cell_type": "code",
   "execution_count": null,
   "metadata": {},
   "outputs": [],
   "source": [
    "df_ut['ЭтоБухгалтерия'] = False # to distinguish ut.csv rows from buh.csv"
   ]
  },
  {
   "cell_type": "code",
   "execution_count": null,
   "metadata": {},
   "outputs": [],
   "source": [
    "df_buh = pd.read_csv(fp_buh,sep=';', dtype={'КодНоменклатуры': 'str','Сумма':float, 'Количество':float}) # 'Сумма':'str' is intentionally left"
   ]
  },
  {
   "cell_type": "code",
   "execution_count": null,
   "metadata": {},
   "outputs": [],
   "source": [
    "df_buh.Сумма.dtype"
   ]
  },
  {
   "cell_type": "code",
   "execution_count": null,
   "metadata": {},
   "outputs": [],
   "source": [
    "df_buh['ЭтоБухгалтерия'] = True # ADDING FLAG TO MARK THE RECORDS AS BUH"
   ]
  },
  {
   "cell_type": "code",
   "execution_count": null,
   "metadata": {},
   "outputs": [],
   "source": [
    "DF_UT_rows = df_ut.shape[0]\n",
    "print(df_ut.shape)\n",
    "print(df_ut.sum(numeric_only=True)) # output SUMM\n",
    "df_ut = df_ut.sort_values(by=['КодНоменклатуры'])"
   ]
  },
  {
   "cell_type": "code",
   "execution_count": null,
   "metadata": {},
   "outputs": [],
   "source": [
    "DF_BUH_rows = df_buh.shape[0]\n",
    "print(df_buh.shape) # \n",
    "print(df_buh.sum(numeric_only=True)) # output SUMM\n",
    "df_buh = df_buh.sort_values(by=['КодНоменклатуры'])"
   ]
  },
  {
   "cell_type": "code",
   "execution_count": null,
   "metadata": {},
   "outputs": [],
   "source": [
    "# CONCATENTATION OF buh and ut\n",
    "df = pd.concat([df_ut, df_buh], sort=True)\n",
    "df.reset_index(drop=True)"
   ]
  },
  {
   "cell_type": "code",
   "execution_count": null,
   "metadata": {},
   "outputs": [],
   "source": [
    "df['КодНоменклатуры'] = df['КодНоменклатуры'].astype(str) # convert to string\n",
    "df['КодНоменклатуры'] = df['КодНоменклатуры'].str.strip() # removing whitespace\n",
    "df['КодНоменклатуры'] = df['КодНоменклатуры'].replace('nan','')"
   ]
  },
  {
   "cell_type": "code",
   "execution_count": null,
   "metadata": {},
   "outputs": [],
   "source": [
    "df['Количество'] = df['Количество'].fillna(0.0)\n",
    "df['Количество'] = df['Количество'].astype(float)"
   ]
  },
  {
   "cell_type": "code",
   "execution_count": null,
   "metadata": {},
   "outputs": [],
   "source": [
    "df.to_excel('UT_BUH.xlsx',index_label=False,index=False)"
   ]
  },
  {
   "cell_type": "code",
   "execution_count": null,
   "metadata": {},
   "outputs": [],
   "source": [
    "print(\"United DF, rows:\", df.shape[0],\" cols:\",df.shape[1])"
   ]
  },
  {
   "cell_type": "code",
   "execution_count": null,
   "metadata": {},
   "outputs": [],
   "source": [
    "subset_of_rows=['КодНоменклатуры','Номенклатура','Склад']\n",
    "duplicated_df_series = df.duplicated(subset=subset_of_rows,keep=False)"
   ]
  },
  {
   "cell_type": "code",
   "execution_count": null,
   "metadata": {},
   "outputs": [],
   "source": [
    "# Select all duplicate rows based on all columns\n",
    "duplicateRowsDF = df[duplicated_df_series]\n",
    "duplicateRowsDF = duplicateRowsDF.reset_index(drop=True)"
   ]
  },
  {
   "cell_type": "code",
   "execution_count": null,
   "metadata": {},
   "outputs": [],
   "source": [
    "print(\"Duplicates DF, rows:\",duplicateRowsDF.shape[0],\" cols:\",duplicateRowsDF.shape[1])"
   ]
  },
  {
   "cell_type": "code",
   "execution_count": null,
   "metadata": {},
   "outputs": [],
   "source": [
    "df.sum(numeric_only=True)"
   ]
  },
  {
   "cell_type": "code",
   "execution_count": null,
   "metadata": {},
   "outputs": [],
   "source": [
    "DF_rows_before_reducing = df.shape[0]\n",
    "print(\"DF before duplicates removing, rows:\",df.shape[0],\" cols:\",df.shape[1])\n",
    "DF_SUM_BEFORE = df.sum(numeric_only=True)\n",
    "print(DF_SUM_BEFORE[\"Сумма\"])"
   ]
  },
  {
   "cell_type": "code",
   "execution_count": null,
   "metadata": {},
   "outputs": [],
   "source": [
    "# Removing intersection of 2 UT and BUH by their intersection\n",
    "df.drop_duplicates(subset=subset_of_rows, \n",
    "                     keep = False, inplace = True) \n",
    "print(df.shape)\n",
    "DF_rows_AFTER_reducing = df.shape[0]\n",
    "DF_SUM_AFTER = df.sum(numeric_only=True)"
   ]
  },
  {
   "cell_type": "code",
   "execution_count": null,
   "metadata": {},
   "outputs": [],
   "source": [
    "##df"
   ]
  },
  {
   "cell_type": "code",
   "execution_count": null,
   "metadata": {},
   "outputs": [],
   "source": [
    "duplicateRowsDF_rows_number = duplicateRowsDF.shape[0]\n",
    "duplicateRowsDF_summ = duplicateRowsDF.sum(numeric_only=True)"
   ]
  },
  {
   "cell_type": "code",
   "execution_count": null,
   "metadata": {},
   "outputs": [],
   "source": [
    "print(\"DF_UT_rows:\",DF_UT_rows)\n",
    "print(\"DF_BUH_row:\",DF_BUH_rows)\n",
    "print()\n",
    "print(\"DF_rows_before_reducing:\",DF_rows_before_reducing)\n",
    "print(\"DF_rows_AFTER_reducing:\",DF_rows_AFTER_reducing)\n",
    "print()\n",
    "print(\"duplicateRowsDF_rows_number:\",duplicateRowsDF_rows_number)"
   ]
  },
  {
   "cell_type": "code",
   "execution_count": null,
   "metadata": {},
   "outputs": [],
   "source": [
    "print(\"*******************\")\n",
    "print(\"Сумма до удаления дублей:\",DF_SUM_BEFORE[\"Сумма\"]) \n",
    "print(\"Сумма после удаления дублей:\",DF_SUM_AFTER[\"Сумма\"])\n",
    "print()\n",
    "print(\"Сумма дубликатов:            \", duplicateRowsDF_summ[\"Сумма\"])\n",
    "print('разница до от разницы после', round(DF_SUM_BEFORE[\"Сумма\"]-DF_SUM_AFTER[\"Сумма\"], 2)) # если тут разнциа то это ошибка"
   ]
  },
  {
   "cell_type": "code",
   "execution_count": null,
   "metadata": {},
   "outputs": [],
   "source": [
    "print(\"rows dupl\",duplicateRowsDF.shape[0])\n",
    "print(duplicateRowsDF.sum(numeric_only=True))"
   ]
  },
  {
   "cell_type": "code",
   "execution_count": null,
   "metadata": {},
   "outputs": [],
   "source": [
    "# As far as the the buh.csv has no \"СерияНоменклатуры\" field consider the rows of subset from buh as unique\n",
    "rows_of_buh = duplicateRowsDF[duplicateRowsDF['ЭтоБухгалтерия'] == True]"
   ]
  },
  {
   "cell_type": "code",
   "execution_count": null,
   "metadata": {},
   "outputs": [],
   "source": [
    "print(rows_of_buh.shape)\n",
    "print(rows_of_buh.sum(numeric_only=True))"
   ]
  },
  {
   "cell_type": "code",
   "execution_count": null,
   "metadata": {},
   "outputs": [],
   "source": [
    "counter = 0\n",
    "size_of_rows = rows_of_buh.shape[0]\n",
    "for index, row in rows_of_buh.iterrows():   \n",
    "    ##print(\"TEMP SERIES BEGIN\")\n",
    "    ##print(\"***************************************\")\n",
    "    temp_df  = duplicateRowsDF.query('КодНоменклатуры == \\''+row['КодНоменклатуры']+'\\' and Номенклатура ==\\''+row['Номенклатура']+'\\' and Склад == \\''+row['Склад']+'\\'', inplace = False)\n",
    "    buh_sum = row['Сумма']\n",
    "    counter+=1\n",
    "    print(\"counter:\",counter,\"/\",size_of_rows)\n",
    "    ##print(\"бухгалтерская сумма:\", buh_sum)  \n",
    "        \n",
    "    # Removing the buh string from temp_df otherwirse I won't be able to count the quantity of series in UT\n",
    "    ##############################\n",
    "    # Get names of indices for which ЭтоБухгалтерия is true\n",
    "    indexNames = temp_df[temp_df['ЭтоБухгалтерия'] == True ].index\n",
    "    # Delete these row indices from dataFrame\n",
    "    temp_df.drop(indexNames , inplace=True)\n",
    "    ##############################\n",
    "    \n",
    "    temp_number_of_series = temp_df['Количество'].sum() \n",
    "    ##print(\"Количество по сериям: \",temp_number_of_series) \n",
    "    \n",
    "    # define the price\n",
    "    if temp_number_of_series != 0:\n",
    "        price = buh_sum / temp_number_of_series\n",
    "        price = round(price,2)\n",
    "    else:\n",
    "        price = 0.0\n",
    "        \n",
    "    ##print(\"Price of series is:\", price)\n",
    "    \n",
    "    summ_accum = 0.0 # the_sum_remains check \n",
    "    \n",
    "    # Summ distribution to series \n",
    "    for temp_index,temp_row in temp_df.iterrows():\n",
    "        current_sum = price * temp_row['Количество']\n",
    "        duplicateRowsDF.at[temp_index,'Сумма'] = round(current_sum,2)\n",
    "        ##print(\"Teh summ is\", duplicateRowsDF.at[temp_index,'Сумма'])\n",
    "        the_last_index = temp_index  # hope it won't clear iself after the loop\n",
    "        summ_accum+=round(current_sum,2)\n",
    "        \n",
    "    # the_sum_remains check\n",
    "    if summ_accum != buh_sum:\n",
    "        print(\"difference in \",row['КодНоменклатуры'],row['Номенклатура'],row['Склад'], \" sum if difference between \",buh_sum,\" and \",summ_accum)\n",
    "        summ_dif = buh_sum - summ_accum\n",
    "        duplicateRowsDF.at[the_last_index, 'Сумма'] += round(summ_dif,2)  # add the sum to the last row with the series\n",
    "  \n",
    "    ##display(temp_df)"
   ]
  },
  {
   "cell_type": "code",
   "execution_count": null,
   "metadata": {},
   "outputs": [],
   "source": [
    "# Removing buh-string from duplicates dataframe - we've already got the sum to distibute among set of Series rows\n",
    "###############################################################################################\n",
    "# Get names of indexes for which ЭтоБухгалтерия is true\n",
    "indexNames = duplicateRowsDF[duplicateRowsDF['ЭтоБухгалтерия'] == True ].index\n",
    "# Delete these row indexes from dataFrame\n",
    "duplicateRowsDF.drop(indexNames , inplace=True)\n",
    "##############################"
   ]
  },
  {
   "cell_type": "code",
   "execution_count": null,
   "metadata": {},
   "outputs": [],
   "source": [
    "# adding fixed duplicates to the df\n",
    "df = pd.concat([df, duplicateRowsDF], sort=True) # sets union\n",
    "df.reset_index(drop=True)\n"
   ]
  },
  {
   "cell_type": "code",
   "execution_count": null,
   "metadata": {},
   "outputs": [],
   "source": [
    "df.shape"
   ]
  },
  {
   "cell_type": "code",
   "execution_count": null,
   "metadata": {},
   "outputs": [],
   "source": [
    "df.sum(numeric_only=True)[\"Количество\"]"
   ]
  },
  {
   "cell_type": "code",
   "execution_count": null,
   "metadata": {},
   "outputs": [],
   "source": [
    "round(df.sum(numeric_only=True)[\"Сумма\"],2)"
   ]
  },
  {
   "cell_type": "code",
   "execution_count": null,
   "metadata": {},
   "outputs": [],
   "source": [
    "df = df.sort_values(by=['КодНоменклатуры'])"
   ]
  },
  {
   "cell_type": "code",
   "execution_count": null,
   "metadata": {},
   "outputs": [],
   "source": [
    "##df"
   ]
  },
  {
   "cell_type": "code",
   "execution_count": null,
   "metadata": {},
   "outputs": [],
   "source": [
    "# THE FINAL RESULT BEING MADE HERE\n",
    "###############################################################################################\n",
    "df.to_excel('final_UT_BUH.xlsx',index_label=False,index=False,float_format='%.2f')"
   ]
  },
  {
   "cell_type": "code",
   "execution_count": null,
   "metadata": {},
   "outputs": [],
   "source": [
    "# All code needed to check the difference of concatenating ut and buh listed below\n",
    "###############################################################################################\n",
    "# reread the new file\n",
    "fp_changed =\"final_UT_BUH_changeable.xlsx\"\n",
    "#df_changed = pd.read_csv(fp_changed, sep=';', encoding='cp1251', dtype={'КодСерии': 'str','КодНоменклатуры':'str','Количество':float})\n",
    "df_changed = pd.read_excel(fp_changed)"
   ]
  },
  {
   "cell_type": "code",
   "execution_count": null,
   "metadata": {},
   "outputs": [],
   "source": [
    "df_changed.dtypes"
   ]
  },
  {
   "cell_type": "code",
   "execution_count": null,
   "metadata": {},
   "outputs": [],
   "source": [
    "print(df_changed.shape[0])\n",
    "print()\n",
    "print(df_ut.shape[0])"
   ]
  },
  {
   "cell_type": "code",
   "execution_count": null,
   "metadata": {},
   "outputs": [],
   "source": [
    "df_changed = df_changed.drop(['ЭтоБухгалтерия'],  axis = 1)"
   ]
  },
  {
   "cell_type": "code",
   "execution_count": null,
   "metadata": {},
   "outputs": [],
   "source": [
    "df_ut = df_ut.drop(['ЭтоБухгалтерия'],  axis = 1)"
   ]
  },
  {
   "cell_type": "code",
   "execution_count": null,
   "metadata": {},
   "outputs": [],
   "source": [
    "df_changed = df_changed.drop(['Сумма'],  axis = 1)\n",
    "df_ut = df_ut.drop(['Сумма'],  axis = 1)"
   ]
  },
  {
   "cell_type": "code",
   "execution_count": null,
   "metadata": {},
   "outputs": [],
   "source": [
    "# ATTENTION!\n",
    "# Code below check the data in memory from df variable! Not from xls file\n",
    "############################################################################################\n",
    "\n",
    "df_mem = df.copy(deep=True)  # deep=False - means no indices\n",
    "# dropping unwanted columns\n",
    "df_mem = df_mem.drop(['ЭтоБухгалтерия'],  axis = 1)\n",
    "df_mem = df_mem.drop(['Сумма'],  axis = 1)\n",
    "# converting columns\n",
    "df_mem['КодНоменклатуры'] = df_mem['КодНоменклатуры'].str.strip()\n",
    "df_mem['КодСерии'] = df_mem['КодСерии'].str.strip()\n",
    "df_mem['Номенклатура'] = df_mem['Номенклатура'].str.strip()\n",
    "df_mem['Серия'] = df_mem['Серия'].str.strip()\n",
    "df_mem['Склад'] = df_mem['Склад'].str.strip()\n",
    "# show example\n",
    "display(df_mem.head())\n",
    "print(df_mem.dtypes)\n",
    "df_mem.reset_index(inplace=True,drop=True)\n",
    "#display(df_mem.head)\n",
    "print(df_mem.columns.tolist())\n",
    "print(df_mem.dtypes)\n",
    "print(df_mem.shape)"
   ]
  },
  {
   "cell_type": "code",
   "execution_count": null,
   "metadata": {},
   "outputs": [],
   "source": [
    "df_mem.head()"
   ]
  },
  {
   "cell_type": "code",
   "execution_count": null,
   "metadata": {},
   "outputs": [],
   "source": [
    "df_ut['КодНоменклатуры'] = df_ut['КодНоменклатуры'].str.strip()\n",
    "df_ut['КодСерии'] = df_ut['КодСерии'].str.strip()\n",
    "df_ut['Номенклатура'] = df_ut['Номенклатура'].str.strip()\n",
    "df_ut['Серия'] = df_ut['Серия'].str.strip()\n",
    "df_ut['Склад'] = df_ut['Склад'].str.strip()\n",
    "\n",
    "print(df_ut.columns.tolist())\n",
    "\n",
    "print(df_ut.dtypes)\n",
    "\n",
    "df_ut = df_ut.reindex(columns=df_mem.columns.tolist())\n",
    "print(df_ut.reset_index(inplace=True,drop=True))\n",
    "print(df_ut.shape)"
   ]
  },
  {
   "cell_type": "code",
   "execution_count": null,
   "metadata": {},
   "outputs": [],
   "source": [
    "df_ut.head()"
   ]
  },
  {
   "cell_type": "code",
   "execution_count": null,
   "metadata": {},
   "outputs": [],
   "source": [
    "# Check columns names for equality\n",
    "################################\n",
    "cols1 = df_mem.columns.tolist()\n",
    "cols2 = df_ut.columns.tolist()\n",
    "print(cols1)\n",
    "print(cols2)\n",
    "if cols1 == cols2:\n",
    "    print('column names are equal')"
   ]
  },
  {
   "cell_type": "code",
   "execution_count": null,
   "metadata": {
    "scrolled": true
   },
   "outputs": [],
   "source": [
    "# Code below used for column content collisions\n",
    "#############################################################\n",
    "# eg I found the rows with same code but different names - \n",
    "# it means the same item in UT and Buh has the different names but the same code\n",
    "\n",
    "# specify the column to search for duplicates\n",
    "#COL_NAME = 'КодНоменклатуры'\n",
    "COL_NAME = 'Номенклатура'\n",
    "\n",
    "# Prepare the first set \n",
    "df_mem_items = list(set(df_mem[COL_NAME].tolist())) # Column folding - get All unique codes of items\n",
    "print(len(df_mem_items))\n",
    "df_mem_items.sort()\n",
    "print(df_mem_items[:10]) # show 10 \n",
    "\n",
    "# Prepare the second set \n",
    "ut_mem_items = list(set(df_ut[COL_NAME].tolist())) # column folding\n",
    "print(len(ut_mem_items))\n",
    "ut_mem_items.sort()\n",
    "print(ut_mem_items[:10])\n",
    "\n",
    " \n",
    "# Function to get the intersection of two lists using set() method \n",
    "def intersection(lst1, lst2): \n",
    "    return list(set(lst1) & set(lst2)) \n",
    "\n",
    "common_values = intersection(df_mem_items, ut_mem_items) # get the intersection\n",
    "\n",
    "print(len(common_values)) # how many common items in common items set\n",
    "print(common_values[:10])\n",
    "\n",
    "print(\"len of df_mem_items \", len(df_mem_items)) # how many common items in the first set\n",
    "print()\n",
    "\n",
    "# MAKING LIST OF UNIQUE CODES FROM df_mem\n",
    "##############################################\n",
    "df_mem_count_of_unique_values = 0\n",
    "df_mem_unique_values = []\n",
    "# unique df_mem_items\n",
    "for code in df_mem_items:\n",
    "    if code not in common_values:\n",
    "        df_mem_unique_values.append(code)\n",
    "        df_mem_count_of_unique_values += 1    \n",
    "print(\"Number of unique values in df_mem_items\", df_mem_count_of_unique_values)\n",
    "print()\n",
    "print(df_mem_unique_values)\n",
    "\n",
    "# MAKING LIST OF UNIQUE CODES FROM df_mem\n",
    "##############################################\n",
    "df_ut_count_of_unique_values = 0\n",
    "df_ut_unique_values = []\n",
    "# unique df_mem_items\n",
    "for code in ut_mem_items:\n",
    "    if code not in common_values:\n",
    "        df_ut_unique_values.append(code)\n",
    "        df_ut_count_of_unique_values += 1\n",
    "        \n",
    "print(\"Number of unique values in df_ut \", df_ut_count_of_unique_values)\n",
    "print()\n",
    "print(df_ut_unique_values)"
   ]
  },
  {
   "cell_type": "code",
   "execution_count": null,
   "metadata": {},
   "outputs": [],
   "source": [
    "df_names_are_different_in_UT_BUH = df_mem[df_mem[COL_NAME].isin(df_mem_unique_values)]"
   ]
  },
  {
   "cell_type": "code",
   "execution_count": null,
   "metadata": {},
   "outputs": [],
   "source": [
    "df_ut[df_ut[\"КодНоменклатуры\"].isin(df_mem_unique_values)] # empty is right"
   ]
  },
  {
   "cell_type": "code",
   "execution_count": null,
   "metadata": {},
   "outputs": [],
   "source": [
    "print(df_mem.shape)\n",
    "print(df_ut.shape)\n",
    "common = df_mem.merge(df_ut,on=['КодНоменклатуры','КодСерии','Номенклатура','Серия','Склад','Количество'])\n",
    "print(common.shape) #"
   ]
  },
  {
   "cell_type": "code",
   "execution_count": null,
   "metadata": {},
   "outputs": [],
   "source": [
    "# out the dif in excel\n",
    "df_names_are_different_in_UT_BUH.to_excel('different_names.xlsx',index_label=False,index=False,float_format='%.2f') "
   ]
  }
 ],
 "metadata": {
  "kernelspec": {
   "display_name": "Python 3",
   "language": "python",
   "name": "python3"
  },
  "language_info": {
   "codemirror_mode": {
    "name": "ipython",
    "version": 3
   },
   "file_extension": ".py",
   "mimetype": "text/x-python",
   "name": "python",
   "nbconvert_exporter": "python",
   "pygments_lexer": "ipython3",
   "version": "3.7.1"
  }
 },
 "nbformat": 4,
 "nbformat_minor": 2
}
