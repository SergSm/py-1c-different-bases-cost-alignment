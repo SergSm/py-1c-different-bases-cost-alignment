{
 "cells": [
  {
   "cell_type": "code",
   "execution_count": null,
   "metadata": {},
   "outputs": [],
   "source": [
    "import pandas as pd\n",
    "from IPython.display import display, HTML\n",
    "pd.set_option('display.max_rows', 500)"
   ]
  },
  {
   "cell_type": "code",
   "execution_count": null,
   "metadata": {},
   "outputs": [],
   "source": [
    "fp_ut =  '<PATH_TO_CSV_HERE>'\n",
    "df_ut = pd.read_csv(fp_ut, sep=';', dtype={'КодСерии': 'str','КодНоменклатуры':'str','Количество':float})\n",
    "#df_ut = pd.read_csv(fp_ut, sep=';', dtype={'КодСерии': 'str','КодНоменклатуры':'str'})\n",
    "\n",
    "# if df_ut.Количество.dtype == 'str':\n",
    "#     df_ut['Количество'] = df_ut['Количество'].str.strip() # removing whitespace\n",
    "#     df_ut['Количество'] = df_ut['Количество'].str.replace(\" \",\"\") # removing whitespace\n",
    "#     df_ut['Количество'] = df_ut['Количество'].str.replace(\"\\xa0\",\"\") # removing whitespace\n",
    "#     #df_ut['Количество'] = df_ut['Количество'].str.replace(\"\\xa\",\"\") # removing whitespace\n",
    "#     df_ut['Количество'] = df_ut['Количество'].str.replace(\",\",\".\") # removing whitespace# Replace , with . in dataseries\n",
    "#     df_ut['Количество'] = df_ut['Количество'].fillna(0.0)\n",
    "#     df_ut['Количество'] = df_ut['Количество'].astype(float)\n",
    "#     df_ut['Количество'] = pd.to_numeric(df_ut['Количество'])\n"
   ]
  },
  {
   "cell_type": "code",
   "execution_count": null,
   "metadata": {},
   "outputs": [],
   "source": [
    "#display(df_ut.head)"
   ]
  },
  {
   "cell_type": "code",
   "execution_count": null,
   "metadata": {},
   "outputs": [],
   "source": [
    "# ADDING FLAG TO MARK THE RECORDS AS BUH\n",
    "df_ut['ЭтоБухгалтерия'] = False"
   ]
  },
  {
   "cell_type": "code",
   "execution_count": null,
   "metadata": {},
   "outputs": [],
   "source": [
    "fp_buh =  '<PATH_TO_CSV_HERE>'\n",
    "df_buh = pd.read_csv(fp_buh,sep=';', dtype={'КодНоменклатуры': 'str','Сумма':float, 'Количество':float}) # 'Сумма':'str' is intentionally left\n",
    "\n",
    "# print(df_buh.Количество.dtype)\n",
    "# if df_buh.Количество.dtype == 'str':\n",
    "#     df_buh['Количество'] = df_buh['Количество'].str.strip() # removing whitespace\n",
    "#     df_buh['Количество'] = df_buh['Количество'].str.replace(\" \",\"\") # removing whitespace\n",
    "#     df_buh['Количество'] = df_buh['Количество'].str.replace(\"\\xa0\",\"\") # removing whitespace\n",
    "#     df_buh['Количество'] = df_buh['Количество'].str.replace(\",\",\".\") # removing whitespace# Replace , with . in dataseries\n",
    "#     df_buh['Количество'] = df_buh['Количество'].fillna(0.0)\n",
    "#     df_buh['Количество'] = df_buh['Количество'].astype(float)\n",
    "#     df_buh['Количество'] = pd.to_numeric(df_buh['Количество'])\n",
    "\n",
    "# #print(df_buh['Сумма'].dtype)\n",
    "# #if df_buh['Сумма'].dtype == 'str':\n",
    "#     #print(\"sdfsdfsdfsdfsd\")\n",
    "#     df_buh['Сумма'] = df_buh['Сумма'].str.replace(\" \",\"\") # removing whitespace\n",
    "#     df_buh['Сумма'] = df_buh['Сумма'].str.replace(\"\\xa0\",\"\") # removing whitespace\n",
    "#     df_buh['Сумма'] = df_buh['Сумма'].str.replace(\",\",\".\") # removing whitespace# Replace , with . in dataseries\n",
    "#     df_buh['Сумма'] = df_buh['Сумма'].str.strip() # removing whitespace\n",
    "#     df_buh['Сумма'] = df_buh['Сумма'].fillna(0.0)\n",
    "#     df_buh['Сумма'] = df_buh['Сумма'].astype(float)"
   ]
  },
  {
   "cell_type": "code",
   "execution_count": null,
   "metadata": {},
   "outputs": [],
   "source": [
    "df_buh.Сумма.dtype"
   ]
  },
  {
   "cell_type": "code",
   "execution_count": null,
   "metadata": {},
   "outputs": [],
   "source": [
    "# ADDING FLAG TO MARK THE RECORDS AS BUH\n",
    "df_buh['ЭтоБухгалтерия'] = True"
   ]
  },
  {
   "cell_type": "code",
   "execution_count": null,
   "metadata": {},
   "outputs": [],
   "source": [
    "DF_UT_rows = df_ut.shape[0]\n",
    "print(df_ut.shape)\n",
    "print(df_ut.sum(numeric_only=True)) # output SUMM\n",
    "df_ut = df_ut.sort_values(by=['КодНоменклатуры'])"
   ]
  },
  {
   "cell_type": "code",
   "execution_count": null,
   "metadata": {},
   "outputs": [],
   "source": [
    "DF_BUH_rows = df_buh.shape[0]\n",
    "print(df_buh.shape) # \n",
    "print(df_buh.sum(numeric_only=True)) # output SUMM\n",
    "df_buh = df_buh.sort_values(by=['КодНоменклатуры'])"
   ]
  },
  {
   "cell_type": "code",
   "execution_count": null,
   "metadata": {},
   "outputs": [],
   "source": [
    "df = pd.concat([df_ut, df_buh], sort=True) # sets union\n",
    "df.reset_index(drop=True)"
   ]
  },
  {
   "cell_type": "code",
   "execution_count": null,
   "metadata": {},
   "outputs": [],
   "source": [
    "df['КодНоменклатуры'] = df['КодНоменклатуры'].astype(str) # convert to string\n",
    "df['КодНоменклатуры'] = df['КодНоменклатуры'].str.strip() # removing whitespace\n",
    "df['КодНоменклатуры'] = df['КодНоменклатуры'].replace('nan','')"
   ]
  },
  {
   "cell_type": "code",
   "execution_count": null,
   "metadata": {},
   "outputs": [],
   "source": [
    "df['Количество'] = df['Количество'].fillna(0.0)\n",
    "df['Количество'] = df['Количество'].astype(float)"
   ]
  },
  {
   "cell_type": "code",
   "execution_count": null,
   "metadata": {},
   "outputs": [],
   "source": [
    "##df.to_csv('UT_BUH.csv',sep=';',encoding='cp1251', index_label=False) # fix first error:\n",
    "##UnicodeEncodeError: 'charmap' codec can't encode character '\\xd7' in position 56: character maps to <undefined>"
   ]
  },
  {
   "cell_type": "code",
   "execution_count": null,
   "metadata": {},
   "outputs": [],
   "source": [
    "df.to_excel('UT_BUH.xlsx',index_label=False,index=False)"
   ]
  },
  {
   "cell_type": "code",
   "execution_count": null,
   "metadata": {},
   "outputs": [],
   "source": [
    "print(\"United DF, rows:\",df.shape[0],\" cols:\",df.shape[1])"
   ]
  },
  {
   "cell_type": "code",
   "execution_count": null,
   "metadata": {},
   "outputs": [],
   "source": [
    "subset_of_rows=['КодНоменклатуры','Номенклатура','Склад']\n",
    "duplicated_df_series = df.duplicated(subset=subset_of_rows,keep=False)"
   ]
  },
  {
   "cell_type": "code",
   "execution_count": null,
   "metadata": {},
   "outputs": [],
   "source": [
    "# Select all duplicate rows based on all columns\n",
    "duplicateRowsDF = df[duplicated_df_series]\n",
    "#print(\"All Duplicate Rows based on all columns are :\")\n",
    "#print(type(duplicateRowsDF))\n",
    "#duplicateRowsDF\n",
    "duplicateRowsDF = duplicateRowsDF.reset_index(drop=True)\n",
    "#duplicateRowsDF.sort_index(inplace=True)"
   ]
  },
  {
   "cell_type": "code",
   "execution_count": null,
   "metadata": {},
   "outputs": [],
   "source": [
    "##duplicateRowsDF"
   ]
  },
  {
   "cell_type": "code",
   "execution_count": null,
   "metadata": {},
   "outputs": [],
   "source": [
    "print(\"Duplicates DF, rows:\",duplicateRowsDF.shape[0],\" cols:\",duplicateRowsDF.shape[1])"
   ]
  },
  {
   "cell_type": "code",
   "execution_count": null,
   "metadata": {},
   "outputs": [],
   "source": [
    "df.sum(numeric_only=True)"
   ]
  },
  {
   "cell_type": "code",
   "execution_count": null,
   "metadata": {},
   "outputs": [],
   "source": [
    "##df[df['КодНоменклатуры'] == \"7265\"] # example: 5 rows"
   ]
  },
  {
   "cell_type": "code",
   "execution_count": null,
   "metadata": {},
   "outputs": [],
   "source": [
    "##df"
   ]
  },
  {
   "cell_type": "code",
   "execution_count": null,
   "metadata": {},
   "outputs": [],
   "source": [
    "DF_rows_before_reducing = df.shape[0]\n",
    "print(\"DF before duplicates removing, rows:\",df.shape[0],\" cols:\",df.shape[1])\n",
    "DF_SUM_BEFORE = df.sum(numeric_only=True)\n",
    "print(DF_SUM_BEFORE[\"Сумма\"])"
   ]
  },
  {
   "cell_type": "code",
   "execution_count": null,
   "metadata": {},
   "outputs": [],
   "source": [
    "df.drop_duplicates(subset=subset_of_rows, \n",
    "                     keep = False, inplace = True) \n",
    "print(df.shape)\n",
    "DF_rows_AFTER_reducing = df.shape[0]\n",
    "DF_SUM_AFTER = df.sum(numeric_only=True)"
   ]
  },
  {
   "cell_type": "code",
   "execution_count": null,
   "metadata": {},
   "outputs": [],
   "source": [
    "##df"
   ]
  },
  {
   "cell_type": "code",
   "execution_count": null,
   "metadata": {},
   "outputs": [],
   "source": [
    "duplicateRowsDF\n",
    "duplicateRowsDF_rows_number = duplicateRowsDF.shape[0]\n",
    "duplicateRowsDF_summ = duplicateRowsDF.sum(numeric_only=True)"
   ]
  },
  {
   "cell_type": "code",
   "execution_count": null,
   "metadata": {},
   "outputs": [],
   "source": [
    "print(\"DF_UT_rows:\",DF_UT_rows)\n",
    "print(\"DF_BUH_row:\",DF_BUH_rows)\n",
    "print()\n",
    "print(\"DF_rows_before_reducing:\",DF_rows_before_reducing)\n",
    "print(\"DF_rows_AFTER_reducing:\",DF_rows_AFTER_reducing)\n",
    "print()\n",
    "print(\"duplicateRowsDF_rows_number:\",duplicateRowsDF_rows_number)"
   ]
  },
  {
   "cell_type": "code",
   "execution_count": null,
   "metadata": {},
   "outputs": [],
   "source": [
    "#print(\"DF before removing is:\",DF_SUM_BEFORE)\n",
    "#print()\n",
    "#print(\"DF after removing is:\",DF_SUM_AFTER)\n",
    "#print()\n",
    "#print('Summ difference is', DF_SUM_BEFORE-DF_SUM_AFTER)\n",
    "#print()\n",
    "#print('Summ of unique', duplicateRowsDF_summ)\n",
    "\n",
    "\n",
    "print(\"*******************\")\n",
    "\n",
    "print(\"Сумма до удаления дублей:\",DF_SUM_BEFORE[\"Сумма\"]) \n",
    "print(\"Сумма после удаления дублей:\",DF_SUM_AFTER[\"Сумма\"])\n",
    "print()\n",
    "print(\"Сумма дубликатов:            \", duplicateRowsDF_summ[\"Сумма\"])\n",
    "print('разница до от разницы после', round(DF_SUM_BEFORE[\"Сумма\"]-DF_SUM_AFTER[\"Сумма\"], 2)) # если тут разнциа то это ошибка\n",
    "      \n"
   ]
  },
  {
   "cell_type": "code",
   "execution_count": null,
   "metadata": {},
   "outputs": [],
   "source": [
    "print(\"rows dupl\",duplicateRowsDF.shape[0])\n",
    "print(duplicateRowsDF.sum(numeric_only=True))\n",
    "##display(duplicateRowsDF) "
   ]
  },
  {
   "cell_type": "code",
   "execution_count": null,
   "metadata": {},
   "outputs": [],
   "source": [
    "# watch the notebook - only buh has unique rows\n",
    "rows_of_buh = duplicateRowsDF[duplicateRowsDF['ЭтоБухгалтерия'] == True]"
   ]
  },
  {
   "cell_type": "code",
   "execution_count": null,
   "metadata": {},
   "outputs": [],
   "source": [
    "print(rows_of_buh.shape)\n",
    "print(rows_of_buh.sum(numeric_only=True))"
   ]
  },
  {
   "cell_type": "code",
   "execution_count": null,
   "metadata": {},
   "outputs": [],
   "source": [
    "##display(rows_of_buh.head(5))"
   ]
  },
  {
   "cell_type": "code",
   "execution_count": null,
   "metadata": {},
   "outputs": [],
   "source": [
    "counter = 0\n",
    "for index, row in rows_of_buh.iterrows():   \n",
    "    print(\"TEMP SERIES BEGIN\")\n",
    "    print(\"***************************************\")\n",
    "    print(\"index in duplicates is\", index)\n",
    "    #temp_df  = duplicateRowsDF.query('КодНоменклатуры == \"'+row['КодНоменклатуры']+'\" and Номенклатура ==\"'+row['Номенклатура']+'\" and Склад == \"'+row['Склад']+'\"', inplace = False)\n",
    "    temp_df  = duplicateRowsDF.query('КодНоменклатуры == \\''+row['КодНоменклатуры']+'\\' and Номенклатура ==\\''+row['Номенклатура']+'\\' and Склад == \\''+row['Склад']+'\\'', inplace = False)\n",
    "    buh_sum = row['Сумма']\n",
    "    counter+=1\n",
    "    print(\"counter:\",counter)\n",
    "    print(\"бухгалтерская сумма:\", buh_sum)  \n",
    "        \n",
    "    # Removing the buh string from temp_df otherwirse I won't be able to count the quantity of series in UT\n",
    "    ##############################\n",
    "    # Get names of indexes for which ЭтоБухгалтерия is true\n",
    "    indexNames = temp_df[temp_df['ЭтоБухгалтерия'] == True ].index\n",
    "    # Delete these row indexes from dataFrame\n",
    "    temp_df.drop(indexNames , inplace=True)\n",
    "    ##############################\n",
    "\n",
    "    temp_number_of_series = temp_df['Количество'].sum() \n",
    "    print(\"Количество по сериям: \",temp_number_of_series) \n",
    "    \n",
    "    # define the price\n",
    "    if temp_number_of_series != 0:\n",
    "        price = buh_sum / temp_number_of_series\n",
    "        price = round(price,2)\n",
    "    else:\n",
    "        price = 0.0\n",
    "        \n",
    "    print(\"Price of series is:\", price)\n",
    "    \n",
    "    summ_accum = 0.0 # the_sum_remains check \n",
    "    \n",
    "    # Summ distribution to series \n",
    "    for temp_index,temp_row in temp_df.iterrows():\n",
    "        current_sum = price * temp_row['Количество']\n",
    "        duplicateRowsDF.at[temp_index,'Сумма'] = round(current_sum,2)\n",
    "        print(\"Teh summ is\", duplicateRowsDF.at[temp_index,'Сумма'])\n",
    "        the_last_index = temp_index  # hope it won't clear iself after the loop\n",
    "        summ_accum+=current_sum\n",
    "        \n",
    "    # the_sum_remains check\n",
    "    if summ_accum != buh_sum:\n",
    "        summ_dif = buh_sum - summ_accum\n",
    "        duplicateRowsDF.at[the_last_index, 'Сумма'] += round(summ_dif,2)  # add the sum to the last row with the series\n",
    "  \n",
    "    ##display(temp_df)"
   ]
  },
  {
   "cell_type": "code",
   "execution_count": null,
   "metadata": {},
   "outputs": [],
   "source": [
    "# Removing buh-string from duplicates dataframe - we already got the sum\n",
    "############################################################################\n",
    "# Get names of indexes for which ЭтоБухгалтерия is true\n",
    "indexNames = duplicateRowsDF[duplicateRowsDF['ЭтоБухгалтерия'] == True ].index\n",
    "# Delete these row indexes from dataFrame\n",
    "duplicateRowsDF.drop(indexNames , inplace=True)\n",
    "##############################"
   ]
  },
  {
   "cell_type": "code",
   "execution_count": null,
   "metadata": {},
   "outputs": [],
   "source": [
    "##duplicateRowsDF[duplicateRowsDF['КодНоменклатуры'] == \"7265\"] "
   ]
  },
  {
   "cell_type": "code",
   "execution_count": null,
   "metadata": {},
   "outputs": [],
   "source": [
    "# TODO: add fixed duplicates to the df\n",
    "df = pd.concat([df, duplicateRowsDF], sort=True) # sets union\n",
    "df.reset_index(drop=True)\n"
   ]
  },
  {
   "cell_type": "code",
   "execution_count": null,
   "metadata": {},
   "outputs": [],
   "source": [
    "df.shape"
   ]
  },
  {
   "cell_type": "code",
   "execution_count": null,
   "metadata": {},
   "outputs": [],
   "source": [
    "df.sum(numeric_only=True)[\"Количество\"]"
   ]
  },
  {
   "cell_type": "code",
   "execution_count": null,
   "metadata": {},
   "outputs": [],
   "source": [
    "round(df.sum(numeric_only=True)[\"Сумма\"],2)"
   ]
  },
  {
   "cell_type": "code",
   "execution_count": null,
   "metadata": {},
   "outputs": [],
   "source": [
    "df = df.sort_values(by=['КодНоменклатуры'])"
   ]
  },
  {
   "cell_type": "code",
   "execution_count": null,
   "metadata": {},
   "outputs": [],
   "source": [
    "##df"
   ]
  },
  {
   "cell_type": "code",
   "execution_count": null,
   "metadata": {},
   "outputs": [],
   "source": [
    "df.to_excel('final_UT_BUH.xlsx',index_label=False,index=False,float_format='%.2f')"
   ]
  },
  {
   "cell_type": "code",
   "execution_count": null,
   "metadata": {},
   "outputs": [],
   "source": []
  }
 ],
 "metadata": {
  "kernelspec": {
   "display_name": "Python 3",
   "language": "python",
   "name": "python3"
  },
  "language_info": {
   "codemirror_mode": {
    "name": "ipython",
    "version": 3
   },
   "file_extension": ".py",
   "mimetype": "text/x-python",
   "name": "python",
   "nbconvert_exporter": "python",
   "pygments_lexer": "ipython3",
   "version": "3.7.1"
  }
 },
 "nbformat": 4,
 "nbformat_minor": 2
}
